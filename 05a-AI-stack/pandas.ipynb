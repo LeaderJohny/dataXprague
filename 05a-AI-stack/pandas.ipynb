{
 "cells": [
  {
   "cell_type": "markdown",
   "metadata": {},
   "source": [
    "![data-x](http://oi64.tinypic.com/o858n4.jpg)\n",
    "\n",
    "---\n",
    "# Pandas Introduction \n",
    "### with Stock Data and Correlation Examples\n",
    "\n",
    "\n",
    "**Author list:** Ikhlaq Sidhu & Alexander Fred Ojala\n",
    "\n",
    "**References / Sources:** \n",
    "Includes examples from Wes McKinney and the 10min intro to Pandas\n",
    "\n",
    "\n",
    "**License Agreement:** Feel free to do whatever you want with this code\n",
    "\n",
    "___"
   ]
  },
  {
   "cell_type": "markdown",
   "metadata": {},
   "source": [
    "## What Does Pandas Do?\n",
    "<img src=\"https://github.com/ikhlaqsidhu/data-x/raw/master/imgsource/pandas-p1.jpg\">"
   ]
  },
  {
   "cell_type": "markdown",
   "metadata": {},
   "source": [
    "## What is a Pandas Table Object?\n",
    "<img src=\"https://github.com/ikhlaqsidhu/data-x/raw/master/imgsource/pandas-p2.jpg\">\n"
   ]
  },
  {
   "cell_type": "markdown",
   "metadata": {},
   "source": [
    "## This table is a dictionary of sequences (like np arrays)\n",
    "<img src=\"https://github.com/ikhlaqsidhu/data-x/raw/master/imgsource/pandas-p3.jpg\">\n"
   ]
  },
  {
   "cell_type": "markdown",
   "metadata": {},
   "source": [
    "# Import packages"
   ]
  },
  {
   "cell_type": "code",
   "execution_count": 1,
   "metadata": {
    "collapsed": true
   },
   "outputs": [],
   "source": [
    "# import packages\n",
    "\n",
    "import pandas as pd\n",
    "\n",
    "# Extra packages\n",
    "import numpy as np\n",
    "import matplotlib.pyplot as plt # for plotting\n",
    "import seaborn as sns # for plotting and styling\n",
    "\n",
    "# jupyter notebook magic to display plots in output\n",
    "%matplotlib inline\n",
    "\n",
    "plt.rcParams['figure.figsize'] = (10,6) # make the plots bigger"
   ]
  },
  {
   "cell_type": "markdown",
   "metadata": {},
   "source": [
    "# Part 1\n",
    "### Simple creation and manipulation of Pandas objects\n",
    "**Key Points:** Pandas has two / three main data types:\n",
    "* Series (similar to numpy arrays, but with index)\n",
    "* DataFrames (table or spreadsheet with Series in the columns)\n",
    "* Panels (3D version of DataFrame, not as common)"
   ]
  },
  {
   "cell_type": "markdown",
   "metadata": {},
   "source": [
    "### It is easy to create a DataFrame\n",
    "\n",
    "### We use `pd.DataFrame(**inputs**)` and can insert almost any data type as an argument\n",
    "\n",
    "**Function:** `pd.DataFrame(data=None, index=None, columns=None, dtype=None, copy=False)`\n",
    "\n",
    "Input data can be a numpy ndarray (structured or homogeneous), dict, or DataFrame. \n",
    "Dict can contain Series, arrays, constants, or list-like objects as the values."
   ]
  },
  {
   "cell_type": "code",
   "execution_count": 2,
   "metadata": {
    "scrolled": true
   },
   "outputs": [
    {
     "name": "stdout",
     "output_type": "stream",
     "text": [
      "[ 1.76405235  0.40015721  0.97873798]\n",
      "[ 2.2408932   1.86755799 -0.97727788]\n",
      "[ 0.95008842 -0.15135721 -0.10321885]\n"
     ]
    }
   ],
   "source": [
    "# Try it with an array\n",
    "np.random.seed(0) # set seed for reproducibility\n",
    "\n",
    "a1 = np.array(np.random.randn(3))\n",
    "a2 = np.array(np.random.randn(3))\n",
    "a3 = np.array(np.random.randn(3))\n",
    "\n",
    "print (a1)\n",
    "print (a2)\n",
    "print (a3)"
   ]
  },
  {
   "cell_type": "code",
   "execution_count": 3,
   "metadata": {},
   "outputs": [
    {
     "name": "stdout",
     "output_type": "stream",
     "text": [
      "<class 'numpy.ndarray'>\n"
     ]
    }
   ],
   "source": [
    "print(type(a1))"
   ]
  },
  {
   "cell_type": "code",
   "execution_count": 4,
   "metadata": {},
   "outputs": [
    {
     "name": "stdout",
     "output_type": "stream",
     "text": [
      "This is a <class 'pandas.core.frame.DataFrame'> :\n"
     ]
    },
    {
     "data": {
      "text/html": [
       "<div>\n",
       "<style>\n",
       "    .dataframe thead tr:only-child th {\n",
       "        text-align: right;\n",
       "    }\n",
       "\n",
       "    .dataframe thead th {\n",
       "        text-align: left;\n",
       "    }\n",
       "\n",
       "    .dataframe tbody tr th {\n",
       "        vertical-align: top;\n",
       "    }\n",
       "</style>\n",
       "<table border=\"1\" class=\"dataframe\">\n",
       "  <thead>\n",
       "    <tr style=\"text-align: right;\">\n",
       "      <th></th>\n",
       "      <th>0</th>\n",
       "    </tr>\n",
       "  </thead>\n",
       "  <tbody>\n",
       "    <tr>\n",
       "      <th>0</th>\n",
       "      <td>1.764052</td>\n",
       "    </tr>\n",
       "    <tr>\n",
       "      <th>1</th>\n",
       "      <td>0.400157</td>\n",
       "    </tr>\n",
       "    <tr>\n",
       "      <th>2</th>\n",
       "      <td>0.978738</td>\n",
       "    </tr>\n",
       "  </tbody>\n",
       "</table>\n",
       "</div>"
      ],
      "text/plain": [
       "          0\n",
       "0  1.764052\n",
       "1  0.400157\n",
       "2  0.978738"
      ]
     },
     "execution_count": 4,
     "metadata": {},
     "output_type": "execute_result"
    }
   ],
   "source": [
    "# Create our first DataFrame w/ an np.array - it becomes a column\n",
    "df0 = pd.DataFrame(a1)\n",
    "print (\"This is a\", type(df0), ':')\n",
    "df0"
   ]
  },
  {
   "cell_type": "code",
   "execution_count": 5,
   "metadata": {},
   "outputs": [
    {
     "name": "stdout",
     "output_type": "stream",
     "text": [
      "          0\n",
      "0  1.764052\n",
      "1  0.400157\n",
      "2  0.978738\n"
     ]
    }
   ],
   "source": [
    "print(df0) # difference when you print and output of the last row"
   ]
  },
  {
   "cell_type": "code",
   "execution_count": 6,
   "metadata": {},
   "outputs": [
    {
     "data": {
      "text/html": [
       "<div>\n",
       "<style>\n",
       "    .dataframe thead tr:only-child th {\n",
       "        text-align: right;\n",
       "    }\n",
       "\n",
       "    .dataframe thead th {\n",
       "        text-align: left;\n",
       "    }\n",
       "\n",
       "    .dataframe tbody tr th {\n",
       "        vertical-align: top;\n",
       "    }\n",
       "</style>\n",
       "<table border=\"1\" class=\"dataframe\">\n",
       "  <thead>\n",
       "    <tr style=\"text-align: right;\">\n",
       "      <th></th>\n",
       "      <th>0</th>\n",
       "      <th>1</th>\n",
       "      <th>2</th>\n",
       "    </tr>\n",
       "  </thead>\n",
       "  <tbody>\n",
       "    <tr>\n",
       "      <th>0</th>\n",
       "      <td>1.764052</td>\n",
       "      <td>0.400157</td>\n",
       "      <td>0.978738</td>\n",
       "    </tr>\n",
       "    <tr>\n",
       "      <th>1</th>\n",
       "      <td>2.240893</td>\n",
       "      <td>1.867558</td>\n",
       "      <td>-0.977278</td>\n",
       "    </tr>\n",
       "    <tr>\n",
       "      <th>2</th>\n",
       "      <td>0.950088</td>\n",
       "      <td>-0.151357</td>\n",
       "      <td>-0.103219</td>\n",
       "    </tr>\n",
       "  </tbody>\n",
       "</table>\n",
       "</div>"
      ],
      "text/plain": [
       "          0         1         2\n",
       "0  1.764052  0.400157  0.978738\n",
       "1  2.240893  1.867558 -0.977278\n",
       "2  0.950088 -0.151357 -0.103219"
      ]
     },
     "execution_count": 6,
     "metadata": {},
     "output_type": "execute_result"
    }
   ],
   "source": [
    "# DataFrame from list of np.arrays\n",
    "\n",
    "df0 = pd.DataFrame([a1, a2, a3])\n",
    "df0\n",
    "\n",
    "# notice that there is no column label, only integer values,\n",
    "# and the index is set automatically"
   ]
  },
  {
   "cell_type": "code",
   "execution_count": 7,
   "metadata": {
    "scrolled": true
   },
   "outputs": [
    {
     "data": {
      "text/plain": [
       "array([[ 1.76405235,  0.40015721,  0.97873798],\n",
       "       [ 2.2408932 ,  1.86755799, -0.97727788],\n",
       "       [ 0.95008842, -0.15135721, -0.10321885]])"
      ]
     },
     "execution_count": 7,
     "metadata": {},
     "output_type": "execute_result"
    }
   ],
   "source": [
    "# DataFrame from 2D np.array\n",
    "\n",
    "np.random.seed(0)\n",
    "\n",
    "ax = np.array(np.random.randn(9)).reshape(3,3)\n",
    "ax"
   ]
  },
  {
   "cell_type": "code",
   "execution_count": 8,
   "metadata": {},
   "outputs": [
    {
     "data": {
      "text/html": [
       "<div>\n",
       "<style>\n",
       "    .dataframe thead tr:only-child th {\n",
       "        text-align: right;\n",
       "    }\n",
       "\n",
       "    .dataframe thead th {\n",
       "        text-align: left;\n",
       "    }\n",
       "\n",
       "    .dataframe tbody tr th {\n",
       "        vertical-align: top;\n",
       "    }\n",
       "</style>\n",
       "<table border=\"1\" class=\"dataframe\">\n",
       "  <thead>\n",
       "    <tr style=\"text-align: right;\">\n",
       "      <th></th>\n",
       "      <th>rand_normal_1</th>\n",
       "      <th>Random Again</th>\n",
       "      <th>Third</th>\n",
       "    </tr>\n",
       "  </thead>\n",
       "  <tbody>\n",
       "    <tr>\n",
       "      <th>100</th>\n",
       "      <td>1.764052</td>\n",
       "      <td>0.400157</td>\n",
       "      <td>0.978738</td>\n",
       "    </tr>\n",
       "    <tr>\n",
       "      <th>200</th>\n",
       "      <td>2.240893</td>\n",
       "      <td>1.867558</td>\n",
       "      <td>-0.977278</td>\n",
       "    </tr>\n",
       "    <tr>\n",
       "      <th>99</th>\n",
       "      <td>0.950088</td>\n",
       "      <td>-0.151357</td>\n",
       "      <td>-0.103219</td>\n",
       "    </tr>\n",
       "  </tbody>\n",
       "</table>\n",
       "</div>"
      ],
      "text/plain": [
       "     rand_normal_1  Random Again     Third\n",
       "100       1.764052      0.400157  0.978738\n",
       "200       2.240893      1.867558 -0.977278\n",
       "99        0.950088     -0.151357 -0.103219"
      ]
     },
     "execution_count": 8,
     "metadata": {},
     "output_type": "execute_result"
    }
   ],
   "source": [
    "df0 = pd.DataFrame(ax,columns=['rand_normal_1','Random Again','Third'],\n",
    "                   index=[100,200,99]) # we can also assign columns and indices, sizes have to match\n",
    "df0"
   ]
  },
  {
   "cell_type": "code",
   "execution_count": 9,
   "metadata": {},
   "outputs": [
    {
     "data": {
      "text/html": [
       "<div>\n",
       "<style>\n",
       "    .dataframe thead tr:only-child th {\n",
       "        text-align: right;\n",
       "    }\n",
       "\n",
       "    .dataframe thead th {\n",
       "        text-align: left;\n",
       "    }\n",
       "\n",
       "    .dataframe tbody tr th {\n",
       "        vertical-align: top;\n",
       "    }\n",
       "</style>\n",
       "<table border=\"1\" class=\"dataframe\">\n",
       "  <thead>\n",
       "    <tr style=\"text-align: right;\">\n",
       "      <th></th>\n",
       "      <th>A</th>\n",
       "      <th>B</th>\n",
       "    </tr>\n",
       "  </thead>\n",
       "  <tbody>\n",
       "    <tr>\n",
       "      <th>0</th>\n",
       "      <td>1.764052</td>\n",
       "      <td>2.240893</td>\n",
       "    </tr>\n",
       "    <tr>\n",
       "      <th>1</th>\n",
       "      <td>0.400157</td>\n",
       "      <td>1.867558</td>\n",
       "    </tr>\n",
       "    <tr>\n",
       "      <th>2</th>\n",
       "      <td>0.978738</td>\n",
       "      <td>-0.977278</td>\n",
       "    </tr>\n",
       "  </tbody>\n",
       "</table>\n",
       "</div>"
      ],
      "text/plain": [
       "          A         B\n",
       "0  1.764052  2.240893\n",
       "1  0.400157  1.867558\n",
       "2  0.978738 -0.977278"
      ]
     },
     "execution_count": 9,
     "metadata": {},
     "output_type": "execute_result"
    }
   ],
   "source": [
    "# DataFrame from a Dictionary\n",
    "\n",
    "dict1 = {'A':a1, 'B':a2}\n",
    "df1 = pd.DataFrame(dict1) \n",
    "df1\n",
    "# note that we now have columns without assignment"
   ]
  },
  {
   "cell_type": "code",
   "execution_count": 10,
   "metadata": {},
   "outputs": [
    {
     "data": {
      "text/html": [
       "<div>\n",
       "<style>\n",
       "    .dataframe thead tr:only-child th {\n",
       "        text-align: right;\n",
       "    }\n",
       "\n",
       "    .dataframe thead th {\n",
       "        text-align: left;\n",
       "    }\n",
       "\n",
       "    .dataframe tbody tr th {\n",
       "        vertical-align: top;\n",
       "    }\n",
       "</style>\n",
       "<table border=\"1\" class=\"dataframe\">\n",
       "  <thead>\n",
       "    <tr style=\"text-align: right;\">\n",
       "      <th></th>\n",
       "      <th>A</th>\n",
       "      <th>B</th>\n",
       "      <th>C</th>\n",
       "    </tr>\n",
       "  </thead>\n",
       "  <tbody>\n",
       "    <tr>\n",
       "      <th>0</th>\n",
       "      <td>1.764052</td>\n",
       "      <td>2.240893</td>\n",
       "      <td>0.950088</td>\n",
       "    </tr>\n",
       "    <tr>\n",
       "      <th>1</th>\n",
       "      <td>0.400157</td>\n",
       "      <td>1.867558</td>\n",
       "      <td>-0.151357</td>\n",
       "    </tr>\n",
       "    <tr>\n",
       "      <th>2</th>\n",
       "      <td>0.978738</td>\n",
       "      <td>-0.977278</td>\n",
       "      <td>-0.103219</td>\n",
       "    </tr>\n",
       "  </tbody>\n",
       "</table>\n",
       "</div>"
      ],
      "text/plain": [
       "          A         B         C\n",
       "0  1.764052  2.240893  0.950088\n",
       "1  0.400157  1.867558 -0.151357\n",
       "2  0.978738 -0.977278 -0.103219"
      ]
     },
     "execution_count": 10,
     "metadata": {},
     "output_type": "execute_result"
    }
   ],
   "source": [
    "# We can easily add another column (just as you add values to a dictionary)\n",
    "df1['C']=a3\n",
    "df1"
   ]
  },
  {
   "cell_type": "code",
   "execution_count": 11,
   "metadata": {},
   "outputs": [
    {
     "name": "stdout",
     "output_type": "stream",
     "text": [
      "The column L is a  <class 'pandas.core.series.Series'>\n"
     ]
    },
    {
     "data": {
      "text/html": [
       "<div>\n",
       "<style>\n",
       "    .dataframe thead tr:only-child th {\n",
       "        text-align: right;\n",
       "    }\n",
       "\n",
       "    .dataframe thead th {\n",
       "        text-align: left;\n",
       "    }\n",
       "\n",
       "    .dataframe tbody tr th {\n",
       "        vertical-align: top;\n",
       "    }\n",
       "</style>\n",
       "<table border=\"1\" class=\"dataframe\">\n",
       "  <thead>\n",
       "    <tr style=\"text-align: right;\">\n",
       "      <th></th>\n",
       "      <th>A</th>\n",
       "      <th>B</th>\n",
       "      <th>C</th>\n",
       "      <th>L</th>\n",
       "    </tr>\n",
       "  </thead>\n",
       "  <tbody>\n",
       "    <tr>\n",
       "      <th>0</th>\n",
       "      <td>1.764052</td>\n",
       "      <td>2.240893</td>\n",
       "      <td>0.950088</td>\n",
       "      <td>Something</td>\n",
       "    </tr>\n",
       "    <tr>\n",
       "      <th>1</th>\n",
       "      <td>0.400157</td>\n",
       "      <td>1.867558</td>\n",
       "      <td>-0.151357</td>\n",
       "      <td>3</td>\n",
       "    </tr>\n",
       "    <tr>\n",
       "      <th>2</th>\n",
       "      <td>0.978738</td>\n",
       "      <td>-0.977278</td>\n",
       "      <td>-0.103219</td>\n",
       "      <td>words</td>\n",
       "    </tr>\n",
       "  </tbody>\n",
       "</table>\n",
       "</div>"
      ],
      "text/plain": [
       "          A         B         C          L\n",
       "0  1.764052  2.240893  0.950088  Something\n",
       "1  0.400157  1.867558 -0.151357          3\n",
       "2  0.978738 -0.977278 -0.103219      words"
      ]
     },
     "execution_count": 11,
     "metadata": {},
     "output_type": "execute_result"
    }
   ],
   "source": [
    "# We can add a list with strings and ints as a column \n",
    "df1['L'] = [\"Something\", 3, \"words\"]\n",
    "print (\"The column L is a \",type (df1['L']))\n",
    "df1"
   ]
  },
  {
   "cell_type": "code",
   "execution_count": 12,
   "metadata": {},
   "outputs": [
    {
     "name": "stdout",
     "output_type": "stream",
     "text": [
      "Something\n",
      "<class 'str'>\n",
      "3\n",
      "<class 'int'>\n"
     ]
    }
   ],
   "source": [
    "print(df1['L'][0])\n",
    "print(type(df1['L'][0]))\n",
    "print(df1['L'][1])\n",
    "print(type(df1['L'][1])) # datatype not upcasted / changed as in numpy"
   ]
  },
  {
   "cell_type": "markdown",
   "metadata": {},
   "source": [
    "# Pandas Series object\n",
    "### Like an np.array, but we can combine data types and it has its own index\n",
    "Note: Every column in a DataFrame is a Series"
   ]
  },
  {
   "cell_type": "code",
   "execution_count": 13,
   "metadata": {},
   "outputs": [
    {
     "name": "stdout",
     "output_type": "stream",
     "text": [
      "0    Something\n",
      "1            3\n",
      "2        words\n",
      "Name: L, dtype: object\n",
      "\n",
      "<class 'pandas.core.series.Series'>\n"
     ]
    }
   ],
   "source": [
    "print(df1['L'])\n",
    "print()\n",
    "print(type(df1['L']))"
   ]
  },
  {
   "cell_type": "code",
   "execution_count": 14,
   "metadata": {},
   "outputs": [
    {
     "name": "stdout",
     "output_type": "stream",
     "text": [
      "0    1.0\n",
      "1    NaN\n",
      "2    3.0\n",
      "dtype: float64\n",
      "\n",
      "a    2\n",
      "b    3\n",
      "c    4\n",
      "dtype: int64\n"
     ]
    }
   ],
   "source": [
    "# Create a Series from a Python list\n",
    "s = pd.Series([1,np.nan,3]) # automatic index, 0,1,2...\n",
    "s2 = pd.Series([2, 3, 4], index = ['a','b','c']) #specific index\n",
    "print (s)\n",
    "print()\n",
    "print (s2)"
   ]
  },
  {
   "cell_type": "code",
   "execution_count": 15,
   "metadata": {},
   "outputs": [
    {
     "data": {
      "text/html": [
       "<div>\n",
       "<style>\n",
       "    .dataframe thead tr:only-child th {\n",
       "        text-align: right;\n",
       "    }\n",
       "\n",
       "    .dataframe thead th {\n",
       "        text-align: left;\n",
       "    }\n",
       "\n",
       "    .dataframe tbody tr th {\n",
       "        vertical-align: top;\n",
       "    }\n",
       "</style>\n",
       "<table border=\"1\" class=\"dataframe\">\n",
       "  <thead>\n",
       "    <tr style=\"text-align: right;\">\n",
       "      <th></th>\n",
       "      <th>A</th>\n",
       "      <th>B</th>\n",
       "      <th>C</th>\n",
       "      <th>L</th>\n",
       "      <th>S</th>\n",
       "    </tr>\n",
       "  </thead>\n",
       "  <tbody>\n",
       "    <tr>\n",
       "      <th>0</th>\n",
       "      <td>1.764052</td>\n",
       "      <td>2.240893</td>\n",
       "      <td>0.950088</td>\n",
       "      <td>Something</td>\n",
       "      <td>1.0</td>\n",
       "    </tr>\n",
       "    <tr>\n",
       "      <th>1</th>\n",
       "      <td>0.400157</td>\n",
       "      <td>1.867558</td>\n",
       "      <td>-0.151357</td>\n",
       "      <td>3</td>\n",
       "      <td>NaN</td>\n",
       "    </tr>\n",
       "    <tr>\n",
       "      <th>2</th>\n",
       "      <td>0.978738</td>\n",
       "      <td>-0.977278</td>\n",
       "      <td>-0.103219</td>\n",
       "      <td>words</td>\n",
       "      <td>3.0</td>\n",
       "    </tr>\n",
       "  </tbody>\n",
       "</table>\n",
       "</div>"
      ],
      "text/plain": [
       "          A         B         C          L    S\n",
       "0  1.764052  2.240893  0.950088  Something  1.0\n",
       "1  0.400157  1.867558 -0.151357          3  NaN\n",
       "2  0.978738 -0.977278 -0.103219      words  3.0"
      ]
     },
     "execution_count": 15,
     "metadata": {},
     "output_type": "execute_result"
    }
   ],
   "source": [
    "# We can add the Series s to the DataFrame above as column S\n",
    "df1['S'] = s\n",
    "df1"
   ]
  },
  {
   "cell_type": "code",
   "execution_count": 16,
   "metadata": {},
   "outputs": [
    {
     "data": {
      "text/html": [
       "<div>\n",
       "<style>\n",
       "    .dataframe thead tr:only-child th {\n",
       "        text-align: right;\n",
       "    }\n",
       "\n",
       "    .dataframe thead th {\n",
       "        text-align: left;\n",
       "    }\n",
       "\n",
       "    .dataframe tbody tr th {\n",
       "        vertical-align: top;\n",
       "    }\n",
       "</style>\n",
       "<table border=\"1\" class=\"dataframe\">\n",
       "  <thead>\n",
       "    <tr style=\"text-align: right;\">\n",
       "      <th></th>\n",
       "      <th>A</th>\n",
       "      <th>B</th>\n",
       "      <th>C</th>\n",
       "      <th>L</th>\n",
       "      <th>S</th>\n",
       "      <th>S2</th>\n",
       "    </tr>\n",
       "  </thead>\n",
       "  <tbody>\n",
       "    <tr>\n",
       "      <th>0</th>\n",
       "      <td>1.764052</td>\n",
       "      <td>2.240893</td>\n",
       "      <td>0.950088</td>\n",
       "      <td>Something</td>\n",
       "      <td>1.0</td>\n",
       "      <td>NaN</td>\n",
       "    </tr>\n",
       "    <tr>\n",
       "      <th>1</th>\n",
       "      <td>0.400157</td>\n",
       "      <td>1.867558</td>\n",
       "      <td>-0.151357</td>\n",
       "      <td>3</td>\n",
       "      <td>NaN</td>\n",
       "      <td>NaN</td>\n",
       "    </tr>\n",
       "    <tr>\n",
       "      <th>2</th>\n",
       "      <td>0.978738</td>\n",
       "      <td>-0.977278</td>\n",
       "      <td>-0.103219</td>\n",
       "      <td>words</td>\n",
       "      <td>3.0</td>\n",
       "      <td>NaN</td>\n",
       "    </tr>\n",
       "  </tbody>\n",
       "</table>\n",
       "</div>"
      ],
      "text/plain": [
       "          A         B         C          L    S  S2\n",
       "0  1.764052  2.240893  0.950088  Something  1.0 NaN\n",
       "1  0.400157  1.867558 -0.151357          3  NaN NaN\n",
       "2  0.978738 -0.977278 -0.103219      words  3.0 NaN"
      ]
     },
     "execution_count": 16,
     "metadata": {},
     "output_type": "execute_result"
    }
   ],
   "source": [
    "# What happens if we use Series s2 \n",
    "# which has a different index?\n",
    "df1['S2']=s2\n",
    "df1"
   ]
  },
  {
   "cell_type": "code",
   "execution_count": 17,
   "metadata": {
    "collapsed": true
   },
   "outputs": [],
   "source": [
    "# possible fix\n",
    "s2_new=s2.reset_index().drop('index',axis=1)\n",
    "df1['S2'] = s2_new\n",
    "\n",
    "# or\n",
    "# s2.index = df1.index\n",
    "# df1['S2'] = s2\n",
    "\n",
    "# or\n",
    "# df1['S2'] = list(s2) # because lists don't have any indices"
   ]
  },
  {
   "cell_type": "code",
   "execution_count": 18,
   "metadata": {},
   "outputs": [
    {
     "data": {
      "text/html": [
       "<div>\n",
       "<style>\n",
       "    .dataframe thead tr:only-child th {\n",
       "        text-align: right;\n",
       "    }\n",
       "\n",
       "    .dataframe thead th {\n",
       "        text-align: left;\n",
       "    }\n",
       "\n",
       "    .dataframe tbody tr th {\n",
       "        vertical-align: top;\n",
       "    }\n",
       "</style>\n",
       "<table border=\"1\" class=\"dataframe\">\n",
       "  <thead>\n",
       "    <tr style=\"text-align: right;\">\n",
       "      <th></th>\n",
       "      <th>A</th>\n",
       "      <th>B</th>\n",
       "      <th>C</th>\n",
       "      <th>L</th>\n",
       "      <th>S</th>\n",
       "      <th>S2</th>\n",
       "    </tr>\n",
       "  </thead>\n",
       "  <tbody>\n",
       "    <tr>\n",
       "      <th>0</th>\n",
       "      <td>1.764052</td>\n",
       "      <td>2.240893</td>\n",
       "      <td>0.950088</td>\n",
       "      <td>Something</td>\n",
       "      <td>1.0</td>\n",
       "      <td>2</td>\n",
       "    </tr>\n",
       "    <tr>\n",
       "      <th>1</th>\n",
       "      <td>0.400157</td>\n",
       "      <td>1.867558</td>\n",
       "      <td>-0.151357</td>\n",
       "      <td>3</td>\n",
       "      <td>NaN</td>\n",
       "      <td>3</td>\n",
       "    </tr>\n",
       "    <tr>\n",
       "      <th>2</th>\n",
       "      <td>0.978738</td>\n",
       "      <td>-0.977278</td>\n",
       "      <td>-0.103219</td>\n",
       "      <td>words</td>\n",
       "      <td>3.0</td>\n",
       "      <td>4</td>\n",
       "    </tr>\n",
       "  </tbody>\n",
       "</table>\n",
       "</div>"
      ],
      "text/plain": [
       "          A         B         C          L    S  S2\n",
       "0  1.764052  2.240893  0.950088  Something  1.0   2\n",
       "1  0.400157  1.867558 -0.151357          3  NaN   3\n",
       "2  0.978738 -0.977278 -0.103219      words  3.0   4"
      ]
     },
     "execution_count": 18,
     "metadata": {},
     "output_type": "execute_result"
    }
   ],
   "source": [
    "df1"
   ]
  },
  {
   "cell_type": "code",
   "execution_count": 19,
   "metadata": {},
   "outputs": [
    {
     "data": {
      "text/html": [
       "<div>\n",
       "<style>\n",
       "    .dataframe thead tr:only-child th {\n",
       "        text-align: right;\n",
       "    }\n",
       "\n",
       "    .dataframe thead th {\n",
       "        text-align: left;\n",
       "    }\n",
       "\n",
       "    .dataframe tbody tr th {\n",
       "        vertical-align: top;\n",
       "    }\n",
       "</style>\n",
       "<table border=\"1\" class=\"dataframe\">\n",
       "  <thead>\n",
       "    <tr style=\"text-align: right;\">\n",
       "      <th></th>\n",
       "      <th>S2</th>\n",
       "    </tr>\n",
       "  </thead>\n",
       "  <tbody>\n",
       "    <tr>\n",
       "      <th>a</th>\n",
       "      <td>2</td>\n",
       "    </tr>\n",
       "    <tr>\n",
       "      <th>b</th>\n",
       "      <td>3</td>\n",
       "    </tr>\n",
       "    <tr>\n",
       "      <th>c</th>\n",
       "      <td>4</td>\n",
       "    </tr>\n",
       "  </tbody>\n",
       "</table>\n",
       "</div>"
      ],
      "text/plain": [
       "   S2\n",
       "a   2\n",
       "b   3\n",
       "c   4"
      ]
     },
     "execution_count": 19,
     "metadata": {},
     "output_type": "execute_result"
    }
   ],
   "source": [
    "# But if we create a new dataframe with s2, \n",
    "# we can add the data but with the new index\n",
    "df2 = pd.DataFrame(s2,columns=['S2'])\n",
    "df2"
   ]
  },
  {
   "cell_type": "code",
   "execution_count": 20,
   "metadata": {},
   "outputs": [
    {
     "data": {
      "text/html": [
       "<div>\n",
       "<style>\n",
       "    .dataframe thead tr:only-child th {\n",
       "        text-align: right;\n",
       "    }\n",
       "\n",
       "    .dataframe thead th {\n",
       "        text-align: left;\n",
       "    }\n",
       "\n",
       "    .dataframe tbody tr th {\n",
       "        vertical-align: top;\n",
       "    }\n",
       "</style>\n",
       "<table border=\"1\" class=\"dataframe\">\n",
       "  <thead>\n",
       "    <tr style=\"text-align: right;\">\n",
       "      <th></th>\n",
       "      <th>S2</th>\n",
       "      <th>A</th>\n",
       "      <th>B</th>\n",
       "      <th>C</th>\n",
       "    </tr>\n",
       "  </thead>\n",
       "  <tbody>\n",
       "    <tr>\n",
       "      <th>a</th>\n",
       "      <td>2</td>\n",
       "      <td>1.764052</td>\n",
       "      <td>2.240893</td>\n",
       "      <td>0.950088</td>\n",
       "    </tr>\n",
       "    <tr>\n",
       "      <th>b</th>\n",
       "      <td>3</td>\n",
       "      <td>0.400157</td>\n",
       "      <td>1.867558</td>\n",
       "      <td>-0.151357</td>\n",
       "    </tr>\n",
       "    <tr>\n",
       "      <th>c</th>\n",
       "      <td>4</td>\n",
       "      <td>0.978738</td>\n",
       "      <td>-0.977278</td>\n",
       "      <td>-0.103219</td>\n",
       "    </tr>\n",
       "  </tbody>\n",
       "</table>\n",
       "</div>"
      ],
      "text/plain": [
       "   S2         A         B         C\n",
       "a   2  1.764052  2.240893  0.950088\n",
       "b   3  0.400157  1.867558 -0.151357\n",
       "c   4  0.978738 -0.977278 -0.103219"
      ]
     },
     "execution_count": 20,
     "metadata": {},
     "output_type": "execute_result"
    }
   ],
   "source": [
    "df2['A']= a1\n",
    "df2['B']=a2\n",
    "df2['C']=a3\n",
    "df2"
   ]
  },
  {
   "cell_type": "code",
   "execution_count": 21,
   "metadata": {},
   "outputs": [
    {
     "name": "stdout",
     "output_type": "stream",
     "text": [
      "   S2         A         B         C\n",
      "b   3  0.400157  1.867558 -0.151357\n",
      "c   4  0.978738 -0.977278 -0.103219\n",
      "\n",
      "   S2         A         B         C\n",
      "a   2  1.764052  2.240893  0.950088\n",
      "b   3  0.400157  1.867558 -0.151357\n"
     ]
    }
   ],
   "source": [
    "# You can extract rows by position or label\n",
    "print (df2[1:3]) # second and third row\n",
    "print()\n",
    "print (df2['a':'b']) # from a to b inclusive"
   ]
  },
  {
   "cell_type": "code",
   "execution_count": 22,
   "metadata": {},
   "outputs": [
    {
     "data": {
      "text/html": [
       "<div>\n",
       "<style>\n",
       "    .dataframe thead tr:only-child th {\n",
       "        text-align: right;\n",
       "    }\n",
       "\n",
       "    .dataframe thead th {\n",
       "        text-align: left;\n",
       "    }\n",
       "\n",
       "    .dataframe tbody tr th {\n",
       "        vertical-align: top;\n",
       "    }\n",
       "</style>\n",
       "<table border=\"1\" class=\"dataframe\">\n",
       "  <thead>\n",
       "    <tr style=\"text-align: right;\">\n",
       "      <th></th>\n",
       "      <th>A</th>\n",
       "      <th>B</th>\n",
       "      <th>C</th>\n",
       "      <th>L</th>\n",
       "      <th>S</th>\n",
       "      <th>S2</th>\n",
       "    </tr>\n",
       "  </thead>\n",
       "  <tbody>\n",
       "    <tr>\n",
       "      <th>0</th>\n",
       "      <td>1.764052</td>\n",
       "      <td>2.240893</td>\n",
       "      <td>0.950088</td>\n",
       "      <td>Something</td>\n",
       "      <td>1.0</td>\n",
       "      <td>2</td>\n",
       "    </tr>\n",
       "    <tr>\n",
       "      <th>1</th>\n",
       "      <td>0.400157</td>\n",
       "      <td>1.867558</td>\n",
       "      <td>-0.151357</td>\n",
       "      <td>3</td>\n",
       "      <td>NaN</td>\n",
       "      <td>3</td>\n",
       "    </tr>\n",
       "    <tr>\n",
       "      <th>2</th>\n",
       "      <td>0.978738</td>\n",
       "      <td>-0.977278</td>\n",
       "      <td>-0.103219</td>\n",
       "      <td>words</td>\n",
       "      <td>3.0</td>\n",
       "      <td>4</td>\n",
       "    </tr>\n",
       "  </tbody>\n",
       "</table>\n",
       "</div>"
      ],
      "text/plain": [
       "          A         B         C          L    S  S2\n",
       "0  1.764052  2.240893  0.950088  Something  1.0   2\n",
       "1  0.400157  1.867558 -0.151357          3  NaN   3\n",
       "2  0.978738 -0.977278 -0.103219      words  3.0   4"
      ]
     },
     "execution_count": 22,
     "metadata": {},
     "output_type": "execute_result"
    }
   ],
   "source": [
    "# Back to df1\n",
    "df1"
   ]
  },
  {
   "cell_type": "code",
   "execution_count": 23,
   "metadata": {},
   "outputs": [
    {
     "data": {
      "text/html": [
       "<div>\n",
       "<style>\n",
       "    .dataframe thead tr:only-child th {\n",
       "        text-align: right;\n",
       "    }\n",
       "\n",
       "    .dataframe thead th {\n",
       "        text-align: left;\n",
       "    }\n",
       "\n",
       "    .dataframe tbody tr th {\n",
       "        vertical-align: top;\n",
       "    }\n",
       "</style>\n",
       "<table border=\"1\" class=\"dataframe\">\n",
       "  <thead>\n",
       "    <tr style=\"text-align: right;\">\n",
       "      <th></th>\n",
       "      <th>A</th>\n",
       "      <th>B</th>\n",
       "      <th>C</th>\n",
       "      <th>Renamed</th>\n",
       "      <th>S</th>\n",
       "      <th>S2</th>\n",
       "    </tr>\n",
       "  </thead>\n",
       "  <tbody>\n",
       "    <tr>\n",
       "      <th>0</th>\n",
       "      <td>1.764052</td>\n",
       "      <td>2.240893</td>\n",
       "      <td>0.950088</td>\n",
       "      <td>Something</td>\n",
       "      <td>1.0</td>\n",
       "      <td>2</td>\n",
       "    </tr>\n",
       "    <tr>\n",
       "      <th>1</th>\n",
       "      <td>0.400157</td>\n",
       "      <td>1.867558</td>\n",
       "      <td>-0.151357</td>\n",
       "      <td>3</td>\n",
       "      <td>NaN</td>\n",
       "      <td>3</td>\n",
       "    </tr>\n",
       "    <tr>\n",
       "      <th>2</th>\n",
       "      <td>0.978738</td>\n",
       "      <td>-0.977278</td>\n",
       "      <td>-0.103219</td>\n",
       "      <td>words</td>\n",
       "      <td>3.0</td>\n",
       "      <td>4</td>\n",
       "    </tr>\n",
       "  </tbody>\n",
       "</table>\n",
       "</div>"
      ],
      "text/plain": [
       "          A         B         C    Renamed    S  S2\n",
       "0  1.764052  2.240893  0.950088  Something  1.0   2\n",
       "1  0.400157  1.867558 -0.151357          3  NaN   3\n",
       "2  0.978738 -0.977278 -0.103219      words  3.0   4"
      ]
     },
     "execution_count": 23,
     "metadata": {},
     "output_type": "execute_result"
    }
   ],
   "source": [
    "# We can also rename columns\n",
    "df1 = df1.rename(columns = {'L':'Renamed'})\n",
    "df1"
   ]
  },
  {
   "cell_type": "code",
   "execution_count": 24,
   "metadata": {},
   "outputs": [
    {
     "data": {
      "text/html": [
       "<div>\n",
       "<style>\n",
       "    .dataframe thead tr:only-child th {\n",
       "        text-align: right;\n",
       "    }\n",
       "\n",
       "    .dataframe thead th {\n",
       "        text-align: left;\n",
       "    }\n",
       "\n",
       "    .dataframe tbody tr th {\n",
       "        vertical-align: top;\n",
       "    }\n",
       "</style>\n",
       "<table border=\"1\" class=\"dataframe\">\n",
       "  <thead>\n",
       "    <tr style=\"text-align: right;\">\n",
       "      <th></th>\n",
       "      <th>A</th>\n",
       "      <th>B</th>\n",
       "      <th>C</th>\n",
       "      <th>Renamed</th>\n",
       "      <th>S</th>\n",
       "    </tr>\n",
       "  </thead>\n",
       "  <tbody>\n",
       "    <tr>\n",
       "      <th>0</th>\n",
       "      <td>1.764052</td>\n",
       "      <td>2.240893</td>\n",
       "      <td>0.950088</td>\n",
       "      <td>Something</td>\n",
       "      <td>1.0</td>\n",
       "    </tr>\n",
       "    <tr>\n",
       "      <th>1</th>\n",
       "      <td>0.400157</td>\n",
       "      <td>1.867558</td>\n",
       "      <td>-0.151357</td>\n",
       "      <td>3</td>\n",
       "      <td>NaN</td>\n",
       "    </tr>\n",
       "    <tr>\n",
       "      <th>2</th>\n",
       "      <td>0.978738</td>\n",
       "      <td>-0.977278</td>\n",
       "      <td>-0.103219</td>\n",
       "      <td>words</td>\n",
       "      <td>3.0</td>\n",
       "    </tr>\n",
       "  </tbody>\n",
       "</table>\n",
       "</div>"
      ],
      "text/plain": [
       "          A         B         C    Renamed    S\n",
       "0  1.764052  2.240893  0.950088  Something  1.0\n",
       "1  0.400157  1.867558 -0.151357          3  NaN\n",
       "2  0.978738 -0.977278 -0.103219      words  3.0"
      ]
     },
     "execution_count": 24,
     "metadata": {},
     "output_type": "execute_result"
    }
   ],
   "source": [
    "# We can delete columns\n",
    "del df1['S2']\n",
    "df1"
   ]
  },
  {
   "cell_type": "code",
   "execution_count": 27,
   "metadata": {},
   "outputs": [],
   "source": [
    "# or drop columns\n",
    "df1.drop('A',axis=1, inplace=True) # does not change df1 if we don't set inplace=True"
   ]
  },
  {
   "cell_type": "code",
   "execution_count": 28,
   "metadata": {},
   "outputs": [
    {
     "data": {
      "text/html": [
       "<div>\n",
       "<style>\n",
       "    .dataframe thead tr:only-child th {\n",
       "        text-align: right;\n",
       "    }\n",
       "\n",
       "    .dataframe thead th {\n",
       "        text-align: left;\n",
       "    }\n",
       "\n",
       "    .dataframe tbody tr th {\n",
       "        vertical-align: top;\n",
       "    }\n",
       "</style>\n",
       "<table border=\"1\" class=\"dataframe\">\n",
       "  <thead>\n",
       "    <tr style=\"text-align: right;\">\n",
       "      <th></th>\n",
       "      <th>B</th>\n",
       "      <th>C</th>\n",
       "      <th>Renamed</th>\n",
       "      <th>S</th>\n",
       "    </tr>\n",
       "  </thead>\n",
       "  <tbody>\n",
       "    <tr>\n",
       "      <th>0</th>\n",
       "      <td>2.240893</td>\n",
       "      <td>0.950088</td>\n",
       "      <td>Something</td>\n",
       "      <td>1.0</td>\n",
       "    </tr>\n",
       "    <tr>\n",
       "      <th>1</th>\n",
       "      <td>1.867558</td>\n",
       "      <td>-0.151357</td>\n",
       "      <td>3</td>\n",
       "      <td>NaN</td>\n",
       "    </tr>\n",
       "    <tr>\n",
       "      <th>2</th>\n",
       "      <td>-0.977278</td>\n",
       "      <td>-0.103219</td>\n",
       "      <td>words</td>\n",
       "      <td>3.0</td>\n",
       "    </tr>\n",
       "  </tbody>\n",
       "</table>\n",
       "</div>"
      ],
      "text/plain": [
       "          B         C    Renamed    S\n",
       "0  2.240893  0.950088  Something  1.0\n",
       "1  1.867558 -0.151357          3  NaN\n",
       "2 -0.977278 -0.103219      words  3.0"
      ]
     },
     "execution_count": 28,
     "metadata": {},
     "output_type": "execute_result"
    }
   ],
   "source": [
    "df1"
   ]
  },
  {
   "cell_type": "code",
   "execution_count": 29,
   "metadata": {},
   "outputs": [
    {
     "data": {
      "text/html": [
       "<div>\n",
       "<style>\n",
       "    .dataframe thead tr:only-child th {\n",
       "        text-align: right;\n",
       "    }\n",
       "\n",
       "    .dataframe thead th {\n",
       "        text-align: left;\n",
       "    }\n",
       "\n",
       "    .dataframe tbody tr th {\n",
       "        vertical-align: top;\n",
       "    }\n",
       "</style>\n",
       "<table border=\"1\" class=\"dataframe\">\n",
       "  <thead>\n",
       "    <tr style=\"text-align: right;\">\n",
       "      <th></th>\n",
       "      <th>B</th>\n",
       "      <th>C</th>\n",
       "      <th>Renamed</th>\n",
       "      <th>S</th>\n",
       "    </tr>\n",
       "  </thead>\n",
       "  <tbody>\n",
       "    <tr>\n",
       "      <th>1</th>\n",
       "      <td>1.867558</td>\n",
       "      <td>-0.151357</td>\n",
       "      <td>3</td>\n",
       "      <td>NaN</td>\n",
       "    </tr>\n",
       "    <tr>\n",
       "      <th>2</th>\n",
       "      <td>-0.977278</td>\n",
       "      <td>-0.103219</td>\n",
       "      <td>words</td>\n",
       "      <td>3.0</td>\n",
       "    </tr>\n",
       "  </tbody>\n",
       "</table>\n",
       "</div>"
      ],
      "text/plain": [
       "          B         C Renamed    S\n",
       "1  1.867558 -0.151357       3  NaN\n",
       "2 -0.977278 -0.103219   words  3.0"
      ]
     },
     "execution_count": 29,
     "metadata": {},
     "output_type": "execute_result"
    }
   ],
   "source": [
    "# or drop rows\n",
    "df1.drop(0)"
   ]
  },
  {
   "cell_type": "code",
   "execution_count": 30,
   "metadata": {},
   "outputs": [
    {
     "data": {
      "text/plain": [
       "0    2.240893\n",
       "1    1.867558\n",
       "2   -0.977278\n",
       "Name: B, dtype: float64"
      ]
     },
     "execution_count": 30,
     "metadata": {},
     "output_type": "execute_result"
    }
   ],
   "source": [
    "# Example: view only one column\n",
    "df1['B']"
   ]
  },
  {
   "cell_type": "code",
   "execution_count": 31,
   "metadata": {},
   "outputs": [
    {
     "data": {
      "text/html": [
       "<div>\n",
       "<style>\n",
       "    .dataframe thead tr:only-child th {\n",
       "        text-align: right;\n",
       "    }\n",
       "\n",
       "    .dataframe thead th {\n",
       "        text-align: left;\n",
       "    }\n",
       "\n",
       "    .dataframe tbody tr th {\n",
       "        vertical-align: top;\n",
       "    }\n",
       "</style>\n",
       "<table border=\"1\" class=\"dataframe\">\n",
       "  <thead>\n",
       "    <tr style=\"text-align: right;\">\n",
       "      <th></th>\n",
       "      <th>B</th>\n",
       "      <th>C</th>\n",
       "    </tr>\n",
       "  </thead>\n",
       "  <tbody>\n",
       "    <tr>\n",
       "      <th>0</th>\n",
       "      <td>2.240893</td>\n",
       "      <td>0.950088</td>\n",
       "    </tr>\n",
       "    <tr>\n",
       "      <th>1</th>\n",
       "      <td>1.867558</td>\n",
       "      <td>-0.151357</td>\n",
       "    </tr>\n",
       "    <tr>\n",
       "      <th>2</th>\n",
       "      <td>-0.977278</td>\n",
       "      <td>-0.103219</td>\n",
       "    </tr>\n",
       "  </tbody>\n",
       "</table>\n",
       "</div>"
      ],
      "text/plain": [
       "          B         C\n",
       "0  2.240893  0.950088\n",
       "1  1.867558 -0.151357\n",
       "2 -0.977278 -0.103219"
      ]
     },
     "execution_count": 31,
     "metadata": {},
     "output_type": "execute_result"
    }
   ],
   "source": [
    "# Or view several column\n",
    "df1[['B','C']]"
   ]
  },
  {
   "cell_type": "markdown",
   "metadata": {},
   "source": [
    "# Other ways of slicing\n",
    "In the 10 min Pandas Guide, you will see many ways to view, slice a dataframe\n",
    "\n",
    "* view/slice by rows, eg `df[1:3]`, etc.\n",
    "\n",
    "* view by index location, see `df.iloc` (iloc)\n",
    "\n",
    "* view by ranges of labels, ie index label 2 to 5, or dates feb 3 to feb 25, see `df.loc` (loc)\n",
    " \n",
    "* view a single row by the index `df.xs` (xs) or `df.ix` (ix)\n",
    "\n",
    "* filtering rows that have certain conditions\n",
    "* add column\n",
    "* add row\n",
    "\n",
    "* How to change the index\n",
    "\n",
    "and more..."
   ]
  },
  {
   "cell_type": "code",
   "execution_count": 32,
   "metadata": {},
   "outputs": [
    {
     "name": "stdout",
     "output_type": "stream",
     "text": [
      "          B         C    Renamed    S\n",
      "0  2.240893  0.950088  Something  1.0\n",
      "1  1.867558 -0.151357          3  NaN\n"
     ]
    }
   ],
   "source": [
    "print (df1[0:2])  # ok\n",
    "# df1[1]  # not ok"
   ]
  },
  {
   "cell_type": "code",
   "execution_count": 33,
   "metadata": {},
   "outputs": [
    {
     "data": {
      "text/plain": [
       "B    2.24089\n",
       "S          1\n",
       "Name: 0, dtype: object"
      ]
     },
     "execution_count": 33,
     "metadata": {},
     "output_type": "execute_result"
    }
   ],
   "source": [
    "df1.loc[0,['B','S']] # first row, three columns"
   ]
  },
  {
   "cell_type": "code",
   "execution_count": 35,
   "metadata": {},
   "outputs": [
    {
     "name": "stdout",
     "output_type": "stream",
     "text": [
      "          B         C    Renamed    S\n",
      "0  2.240893  0.950088  Something  1.0\n"
     ]
    }
   ],
   "source": [
    "print (df1[0:2][0:1]) # slice of the DataFrame returned"
   ]
  },
  {
   "cell_type": "markdown",
   "metadata": {},
   "source": [
    "# Part 2\n",
    "## Finance example: Large Data Frames\n",
    "\n",
    "### Now, lets get some data in CSV format.\n",
    "\n",
    "See https://www.quantshare.com/sa-43-10-ways-to-download-historical-stock-quotes-data-for-free\n"
   ]
  },
  {
   "cell_type": "code",
   "execution_count": 46,
   "metadata": {
    "collapsed": true
   },
   "outputs": [],
   "source": [
    "# We can download data from the web by using pd.read_csv\n",
    "# A CSV file is a comma seperated file\n",
    "# We can use this 'pd.read_csv' method with urls that host csv files\n",
    "\n",
    "base_url = 'https://finance.google.com/finance/historical?output=csv&q='\n",
    "\n",
    "dfg = pd.read_csv(base_url + 'googl') # Google stock data\n",
    "dfa = pd.read_csv(base_url + 'aapl') # Apple stock data"
   ]
  },
  {
   "cell_type": "code",
   "execution_count": 47,
   "metadata": {},
   "outputs": [
    {
     "data": {
      "text/html": [
       "<div>\n",
       "<style>\n",
       "    .dataframe thead tr:only-child th {\n",
       "        text-align: right;\n",
       "    }\n",
       "\n",
       "    .dataframe thead th {\n",
       "        text-align: left;\n",
       "    }\n",
       "\n",
       "    .dataframe tbody tr th {\n",
       "        vertical-align: top;\n",
       "    }\n",
       "</style>\n",
       "<table border=\"1\" class=\"dataframe\">\n",
       "  <thead>\n",
       "    <tr style=\"text-align: right;\">\n",
       "      <th></th>\n",
       "      <th>Date</th>\n",
       "      <th>Open</th>\n",
       "      <th>High</th>\n",
       "      <th>Low</th>\n",
       "      <th>Close</th>\n",
       "      <th>Volume</th>\n",
       "    </tr>\n",
       "  </thead>\n",
       "  <tbody>\n",
       "    <tr>\n",
       "      <th>0</th>\n",
       "      <td>24-Jan-18</td>\n",
       "      <td>1184.98</td>\n",
       "      <td>1187.05</td>\n",
       "      <td>1167.40</td>\n",
       "      <td>1171.29</td>\n",
       "      <td>1856429</td>\n",
       "    </tr>\n",
       "    <tr>\n",
       "      <th>1</th>\n",
       "      <td>23-Jan-18</td>\n",
       "      <td>1170.62</td>\n",
       "      <td>1178.51</td>\n",
       "      <td>1167.25</td>\n",
       "      <td>1176.17</td>\n",
       "      <td>1956865</td>\n",
       "    </tr>\n",
       "    <tr>\n",
       "      <th>2</th>\n",
       "      <td>22-Jan-18</td>\n",
       "      <td>1143.82</td>\n",
       "      <td>1166.88</td>\n",
       "      <td>1141.82</td>\n",
       "      <td>1164.16</td>\n",
       "      <td>1477520</td>\n",
       "    </tr>\n",
       "    <tr>\n",
       "      <th>3</th>\n",
       "      <td>19-Jan-18</td>\n",
       "      <td>1138.03</td>\n",
       "      <td>1143.78</td>\n",
       "      <td>1132.50</td>\n",
       "      <td>1143.50</td>\n",
       "      <td>1527554</td>\n",
       "    </tr>\n",
       "    <tr>\n",
       "      <th>4</th>\n",
       "      <td>18-Jan-18</td>\n",
       "      <td>1139.35</td>\n",
       "      <td>1140.58</td>\n",
       "      <td>1124.46</td>\n",
       "      <td>1135.97</td>\n",
       "      <td>1374873</td>\n",
       "    </tr>\n",
       "  </tbody>\n",
       "</table>\n",
       "</div>"
      ],
      "text/plain": [
       "        Date     Open     High      Low    Close   Volume\n",
       "0  24-Jan-18  1184.98  1187.05  1167.40  1171.29  1856429\n",
       "1  23-Jan-18  1170.62  1178.51  1167.25  1176.17  1956865\n",
       "2  22-Jan-18  1143.82  1166.88  1141.82  1164.16  1477520\n",
       "3  19-Jan-18  1138.03  1143.78  1132.50  1143.50  1527554\n",
       "4  18-Jan-18  1139.35  1140.58  1124.46  1135.97  1374873"
      ]
     },
     "execution_count": 47,
     "metadata": {},
     "output_type": "execute_result"
    }
   ],
   "source": [
    "dfg.head() # show first five values"
   ]
  },
  {
   "cell_type": "code",
   "execution_count": 48,
   "metadata": {},
   "outputs": [
    {
     "data": {
      "text/html": [
       "<div>\n",
       "<style>\n",
       "    .dataframe thead tr:only-child th {\n",
       "        text-align: right;\n",
       "    }\n",
       "\n",
       "    .dataframe thead th {\n",
       "        text-align: left;\n",
       "    }\n",
       "\n",
       "    .dataframe tbody tr th {\n",
       "        vertical-align: top;\n",
       "    }\n",
       "</style>\n",
       "<table border=\"1\" class=\"dataframe\">\n",
       "  <thead>\n",
       "    <tr style=\"text-align: right;\">\n",
       "      <th></th>\n",
       "      <th>Date</th>\n",
       "      <th>Open</th>\n",
       "      <th>High</th>\n",
       "      <th>Low</th>\n",
       "      <th>Close</th>\n",
       "      <th>Volume</th>\n",
       "    </tr>\n",
       "  </thead>\n",
       "  <tbody>\n",
       "    <tr>\n",
       "      <th>248</th>\n",
       "      <td>30-Jan-17</td>\n",
       "      <td>837.06</td>\n",
       "      <td>837.23</td>\n",
       "      <td>821.03</td>\n",
       "      <td>823.83</td>\n",
       "      <td>3516933</td>\n",
       "    </tr>\n",
       "    <tr>\n",
       "      <th>249</th>\n",
       "      <td>27-Jan-17</td>\n",
       "      <td>859.00</td>\n",
       "      <td>867.00</td>\n",
       "      <td>841.90</td>\n",
       "      <td>845.03</td>\n",
       "      <td>3752497</td>\n",
       "    </tr>\n",
       "    <tr>\n",
       "      <th>250</th>\n",
       "      <td>26-Jan-17</td>\n",
       "      <td>859.05</td>\n",
       "      <td>861.00</td>\n",
       "      <td>850.52</td>\n",
       "      <td>856.98</td>\n",
       "      <td>3493251</td>\n",
       "    </tr>\n",
       "  </tbody>\n",
       "</table>\n",
       "</div>"
      ],
      "text/plain": [
       "          Date    Open    High     Low   Close   Volume\n",
       "248  30-Jan-17  837.06  837.23  821.03  823.83  3516933\n",
       "249  27-Jan-17  859.00  867.00  841.90  845.03  3752497\n",
       "250  26-Jan-17  859.05  861.00  850.52  856.98  3493251"
      ]
     },
     "execution_count": 48,
     "metadata": {},
     "output_type": "execute_result"
    }
   ],
   "source": [
    "dfg.tail(3) # last three"
   ]
  },
  {
   "cell_type": "code",
   "execution_count": 49,
   "metadata": {},
   "outputs": [
    {
     "data": {
      "text/plain": [
       "Index(['Date', 'Open', 'High', 'Low', 'Close', 'Volume'], dtype='object')"
      ]
     },
     "execution_count": 49,
     "metadata": {},
     "output_type": "execute_result"
    }
   ],
   "source": [
    "dfg.columns # returns columns, can be used to loop over"
   ]
  },
  {
   "cell_type": "code",
   "execution_count": 50,
   "metadata": {},
   "outputs": [
    {
     "data": {
      "text/plain": [
       "RangeIndex(start=0, stop=251, step=1)"
      ]
     },
     "execution_count": 50,
     "metadata": {},
     "output_type": "execute_result"
    }
   ],
   "source": [
    "dfg.index # return"
   ]
  },
  {
   "cell_type": "markdown",
   "metadata": {},
   "source": [
    "# Convert the index to pandas datetime object"
   ]
  },
  {
   "cell_type": "code",
   "execution_count": 51,
   "metadata": {},
   "outputs": [
    {
     "data": {
      "text/plain": [
       "'24-Jan-18'"
      ]
     },
     "execution_count": 51,
     "metadata": {},
     "output_type": "execute_result"
    }
   ],
   "source": [
    "dfg['Date'][0]"
   ]
  },
  {
   "cell_type": "code",
   "execution_count": 52,
   "metadata": {},
   "outputs": [
    {
     "data": {
      "text/plain": [
       "str"
      ]
     },
     "execution_count": 52,
     "metadata": {},
     "output_type": "execute_result"
    }
   ],
   "source": [
    "type(dfg['Date'][0])"
   ]
  },
  {
   "cell_type": "code",
   "execution_count": 53,
   "metadata": {
    "collapsed": true
   },
   "outputs": [],
   "source": [
    "dfg.index = pd.to_datetime(dfg['Date']) # set index"
   ]
  },
  {
   "cell_type": "code",
   "execution_count": 54,
   "metadata": {
    "collapsed": true
   },
   "outputs": [],
   "source": [
    "#dfg.drop(['Date'],axis=1,inplace=True)"
   ]
  },
  {
   "cell_type": "code",
   "execution_count": 55,
   "metadata": {},
   "outputs": [
    {
     "data": {
      "text/html": [
       "<div>\n",
       "<style>\n",
       "    .dataframe thead tr:only-child th {\n",
       "        text-align: right;\n",
       "    }\n",
       "\n",
       "    .dataframe thead th {\n",
       "        text-align: left;\n",
       "    }\n",
       "\n",
       "    .dataframe tbody tr th {\n",
       "        vertical-align: top;\n",
       "    }\n",
       "</style>\n",
       "<table border=\"1\" class=\"dataframe\">\n",
       "  <thead>\n",
       "    <tr style=\"text-align: right;\">\n",
       "      <th></th>\n",
       "      <th>Date</th>\n",
       "      <th>Open</th>\n",
       "      <th>High</th>\n",
       "      <th>Low</th>\n",
       "      <th>Close</th>\n",
       "      <th>Volume</th>\n",
       "    </tr>\n",
       "    <tr>\n",
       "      <th>Date</th>\n",
       "      <th></th>\n",
       "      <th></th>\n",
       "      <th></th>\n",
       "      <th></th>\n",
       "      <th></th>\n",
       "      <th></th>\n",
       "    </tr>\n",
       "  </thead>\n",
       "  <tbody>\n",
       "    <tr>\n",
       "      <th>2018-01-24</th>\n",
       "      <td>24-Jan-18</td>\n",
       "      <td>1184.98</td>\n",
       "      <td>1187.05</td>\n",
       "      <td>1167.40</td>\n",
       "      <td>1171.29</td>\n",
       "      <td>1856429</td>\n",
       "    </tr>\n",
       "    <tr>\n",
       "      <th>2018-01-23</th>\n",
       "      <td>23-Jan-18</td>\n",
       "      <td>1170.62</td>\n",
       "      <td>1178.51</td>\n",
       "      <td>1167.25</td>\n",
       "      <td>1176.17</td>\n",
       "      <td>1956865</td>\n",
       "    </tr>\n",
       "    <tr>\n",
       "      <th>2018-01-22</th>\n",
       "      <td>22-Jan-18</td>\n",
       "      <td>1143.82</td>\n",
       "      <td>1166.88</td>\n",
       "      <td>1141.82</td>\n",
       "      <td>1164.16</td>\n",
       "      <td>1477520</td>\n",
       "    </tr>\n",
       "    <tr>\n",
       "      <th>2018-01-19</th>\n",
       "      <td>19-Jan-18</td>\n",
       "      <td>1138.03</td>\n",
       "      <td>1143.78</td>\n",
       "      <td>1132.50</td>\n",
       "      <td>1143.50</td>\n",
       "      <td>1527554</td>\n",
       "    </tr>\n",
       "    <tr>\n",
       "      <th>2018-01-18</th>\n",
       "      <td>18-Jan-18</td>\n",
       "      <td>1139.35</td>\n",
       "      <td>1140.58</td>\n",
       "      <td>1124.46</td>\n",
       "      <td>1135.97</td>\n",
       "      <td>1374873</td>\n",
       "    </tr>\n",
       "  </tbody>\n",
       "</table>\n",
       "</div>"
      ],
      "text/plain": [
       "                 Date     Open     High      Low    Close   Volume\n",
       "Date                                                              \n",
       "2018-01-24  24-Jan-18  1184.98  1187.05  1167.40  1171.29  1856429\n",
       "2018-01-23  23-Jan-18  1170.62  1178.51  1167.25  1176.17  1956865\n",
       "2018-01-22  22-Jan-18  1143.82  1166.88  1141.82  1164.16  1477520\n",
       "2018-01-19  19-Jan-18  1138.03  1143.78  1132.50  1143.50  1527554\n",
       "2018-01-18  18-Jan-18  1139.35  1140.58  1124.46  1135.97  1374873"
      ]
     },
     "execution_count": 55,
     "metadata": {},
     "output_type": "execute_result"
    }
   ],
   "source": [
    "dfg.head()"
   ]
  },
  {
   "cell_type": "code",
   "execution_count": 56,
   "metadata": {},
   "outputs": [
    {
     "name": "stdout",
     "output_type": "stream",
     "text": [
      "<class 'pandas._libs.tslib.Timestamp'>\n"
     ]
    },
    {
     "data": {
      "text/plain": [
       "Timestamp('2018-01-24 00:00:00')"
      ]
     },
     "execution_count": 56,
     "metadata": {},
     "output_type": "execute_result"
    }
   ],
   "source": [
    "print(type(dfg.index[0]))\n",
    "dfg.index[0]"
   ]
  },
  {
   "cell_type": "code",
   "execution_count": 58,
   "metadata": {},
   "outputs": [
    {
     "data": {
      "text/plain": [
       "DatetimeIndex(['2018-01-24', '2018-01-23', '2018-01-22', '2018-01-19',\n",
       "               '2018-01-18', '2018-01-17', '2018-01-16', '2018-01-12',\n",
       "               '2018-01-11', '2018-01-10',\n",
       "               ...\n",
       "               '2017-02-08', '2017-02-07', '2017-02-06', '2017-02-03',\n",
       "               '2017-02-02', '2017-02-01', '2017-01-31', '2017-01-30',\n",
       "               '2017-01-27', '2017-01-26'],\n",
       "              dtype='datetime64[ns]', name='Date', length=251, freq=None)"
      ]
     },
     "execution_count": 58,
     "metadata": {},
     "output_type": "execute_result"
    }
   ],
   "source": [
    "dfg.index"
   ]
  },
  {
   "cell_type": "markdown",
   "metadata": {},
   "source": [
    "# Attributes & general statitics of a Pandas DataFrame"
   ]
  },
  {
   "cell_type": "code",
   "execution_count": 59,
   "metadata": {},
   "outputs": [
    {
     "data": {
      "text/plain": [
       "(251, 6)"
      ]
     },
     "execution_count": 59,
     "metadata": {},
     "output_type": "execute_result"
    }
   ],
   "source": [
    "dfg.shape # 249 business days last year"
   ]
  },
  {
   "cell_type": "code",
   "execution_count": 60,
   "metadata": {},
   "outputs": [
    {
     "data": {
      "text/plain": [
       "Index(['Date', 'Open', 'High', 'Low', 'Close', 'Volume'], dtype='object')"
      ]
     },
     "execution_count": 60,
     "metadata": {},
     "output_type": "execute_result"
    }
   ],
   "source": [
    "dfg.columns"
   ]
  },
  {
   "cell_type": "code",
   "execution_count": 61,
   "metadata": {},
   "outputs": [
    {
     "data": {
      "text/plain": [
       "1506"
      ]
     },
     "execution_count": 61,
     "metadata": {},
     "output_type": "execute_result"
    }
   ],
   "source": [
    "dfg.size"
   ]
  },
  {
   "cell_type": "code",
   "execution_count": 65,
   "metadata": {},
   "outputs": [
    {
     "data": {
      "text/html": [
       "<div>\n",
       "<style>\n",
       "    .dataframe thead tr:only-child th {\n",
       "        text-align: right;\n",
       "    }\n",
       "\n",
       "    .dataframe thead th {\n",
       "        text-align: left;\n",
       "    }\n",
       "\n",
       "    .dataframe tbody tr th {\n",
       "        vertical-align: top;\n",
       "    }\n",
       "</style>\n",
       "<table border=\"1\" class=\"dataframe\">\n",
       "  <thead>\n",
       "    <tr style=\"text-align: right;\">\n",
       "      <th></th>\n",
       "      <th>Open</th>\n",
       "      <th>High</th>\n",
       "      <th>Low</th>\n",
       "      <th>Close</th>\n",
       "      <th>Volume</th>\n",
       "    </tr>\n",
       "  </thead>\n",
       "  <tbody>\n",
       "    <tr>\n",
       "      <th>count</th>\n",
       "      <td>251.000000</td>\n",
       "      <td>251.000000</td>\n",
       "      <td>251.000000</td>\n",
       "      <td>251.000000</td>\n",
       "      <td>2.510000e+02</td>\n",
       "    </tr>\n",
       "    <tr>\n",
       "      <th>mean</th>\n",
       "      <td>958.247649</td>\n",
       "      <td>964.304741</td>\n",
       "      <td>951.905259</td>\n",
       "      <td>958.707849</td>\n",
       "      <td>1.616900e+06</td>\n",
       "    </tr>\n",
       "    <tr>\n",
       "      <th>std</th>\n",
       "      <td>81.862519</td>\n",
       "      <td>83.046095</td>\n",
       "      <td>81.104724</td>\n",
       "      <td>82.356829</td>\n",
       "      <td>6.891981e+05</td>\n",
       "    </tr>\n",
       "    <tr>\n",
       "      <th>min</th>\n",
       "      <td>815.000000</td>\n",
       "      <td>822.390000</td>\n",
       "      <td>812.050000</td>\n",
       "      <td>815.240000</td>\n",
       "      <td>7.268980e+05</td>\n",
       "    </tr>\n",
       "    <tr>\n",
       "      <th>25%</th>\n",
       "      <td>890.695000</td>\n",
       "      <td>893.185000</td>\n",
       "      <td>886.165000</td>\n",
       "      <td>890.290000</td>\n",
       "      <td>1.191540e+06</td>\n",
       "    </tr>\n",
       "    <tr>\n",
       "      <th>50%</th>\n",
       "      <td>956.220000</td>\n",
       "      <td>960.990000</td>\n",
       "      <td>947.370000</td>\n",
       "      <td>955.240000</td>\n",
       "      <td>1.440982e+06</td>\n",
       "    </tr>\n",
       "    <tr>\n",
       "      <th>75%</th>\n",
       "      <td>1008.275000</td>\n",
       "      <td>1013.280000</td>\n",
       "      <td>1002.295000</td>\n",
       "      <td>1008.610000</td>\n",
       "      <td>1.797520e+06</td>\n",
       "    </tr>\n",
       "    <tr>\n",
       "      <th>max</th>\n",
       "      <td>1184.980000</td>\n",
       "      <td>1187.050000</td>\n",
       "      <td>1167.400000</td>\n",
       "      <td>1176.170000</td>\n",
       "      <td>5.933602e+06</td>\n",
       "    </tr>\n",
       "  </tbody>\n",
       "</table>\n",
       "</div>"
      ],
      "text/plain": [
       "              Open         High          Low        Close        Volume\n",
       "count   251.000000   251.000000   251.000000   251.000000  2.510000e+02\n",
       "mean    958.247649   964.304741   951.905259   958.707849  1.616900e+06\n",
       "std      81.862519    83.046095    81.104724    82.356829  6.891981e+05\n",
       "min     815.000000   822.390000   812.050000   815.240000  7.268980e+05\n",
       "25%     890.695000   893.185000   886.165000   890.290000  1.191540e+06\n",
       "50%     956.220000   960.990000   947.370000   955.240000  1.440982e+06\n",
       "75%    1008.275000  1013.280000  1002.295000  1008.610000  1.797520e+06\n",
       "max    1184.980000  1187.050000  1167.400000  1176.170000  5.933602e+06"
      ]
     },
     "execution_count": 65,
     "metadata": {},
     "output_type": "execute_result"
    }
   ],
   "source": [
    "# Some general statistics\n",
    "\n",
    "dfg.describe()"
   ]
  },
  {
   "cell_type": "code",
   "execution_count": 67,
   "metadata": {},
   "outputs": [
    {
     "data": {
      "text/plain": [
       "Date\n",
       "2018-01-24    1184.98\n",
       "2018-01-23    1170.62\n",
       "2018-01-22    1143.82\n",
       "2018-01-19    1138.03\n",
       "2018-01-18    1139.35\n",
       "2018-01-17    1136.36\n",
       "2018-01-16    1140.31\n",
       "Name: Open, dtype: float64"
      ]
     },
     "execution_count": 67,
     "metadata": {},
     "output_type": "execute_result"
    }
   ],
   "source": [
    "# Boolean indexing\n",
    "dfg['Open'][dfg['Open']>1130] # check what dates the opening"
   ]
  },
  {
   "cell_type": "code",
   "execution_count": 72,
   "metadata": {},
   "outputs": [
    {
     "data": {
      "text/html": [
       "<div>\n",
       "<style>\n",
       "    .dataframe thead tr:only-child th {\n",
       "        text-align: right;\n",
       "    }\n",
       "\n",
       "    .dataframe thead th {\n",
       "        text-align: left;\n",
       "    }\n",
       "\n",
       "    .dataframe tbody tr th {\n",
       "        vertical-align: top;\n",
       "    }\n",
       "</style>\n",
       "<table border=\"1\" class=\"dataframe\">\n",
       "  <thead>\n",
       "    <tr style=\"text-align: right;\">\n",
       "      <th></th>\n",
       "      <th>Date</th>\n",
       "      <th>Open</th>\n",
       "      <th>High</th>\n",
       "      <th>Low</th>\n",
       "      <th>Close</th>\n",
       "    </tr>\n",
       "    <tr>\n",
       "      <th>Date</th>\n",
       "      <th></th>\n",
       "      <th></th>\n",
       "      <th></th>\n",
       "      <th></th>\n",
       "      <th></th>\n",
       "    </tr>\n",
       "  </thead>\n",
       "  <tbody>\n",
       "    <tr>\n",
       "      <th>2018-01-24</th>\n",
       "      <td>24-Jan-18</td>\n",
       "      <td>1184.98</td>\n",
       "      <td>1187.05</td>\n",
       "      <td>1167.40</td>\n",
       "      <td>1171.29</td>\n",
       "    </tr>\n",
       "    <tr>\n",
       "      <th>2018-01-23</th>\n",
       "      <td>23-Jan-18</td>\n",
       "      <td>1170.62</td>\n",
       "      <td>1178.51</td>\n",
       "      <td>1167.25</td>\n",
       "      <td>1176.17</td>\n",
       "    </tr>\n",
       "    <tr>\n",
       "      <th>2018-01-22</th>\n",
       "      <td>22-Jan-18</td>\n",
       "      <td>1143.82</td>\n",
       "      <td>1166.88</td>\n",
       "      <td>1141.82</td>\n",
       "      <td>1164.16</td>\n",
       "    </tr>\n",
       "  </tbody>\n",
       "</table>\n",
       "</div>"
      ],
      "text/plain": [
       "                 Date     Open     High      Low    Close\n",
       "Date                                                     \n",
       "2018-01-24  24-Jan-18  1184.98  1187.05  1167.40  1171.29\n",
       "2018-01-23  23-Jan-18  1170.62  1178.51  1167.25  1176.17\n",
       "2018-01-22  22-Jan-18  1143.82  1166.88  1141.82  1164.16"
      ]
     },
     "execution_count": 72,
     "metadata": {},
     "output_type": "execute_result"
    }
   ],
   "source": [
    "# Check where Open, High, Low and Close where greater than 1130\n",
    "dfg[dfg>1000].drop('Volume',axis=1).head(3)"
   ]
  },
  {
   "cell_type": "code",
   "execution_count": 74,
   "metadata": {},
   "outputs": [
    {
     "data": {
      "text/html": [
       "<div>\n",
       "<style>\n",
       "    .dataframe thead tr:only-child th {\n",
       "        text-align: right;\n",
       "    }\n",
       "\n",
       "    .dataframe thead th {\n",
       "        text-align: left;\n",
       "    }\n",
       "\n",
       "    .dataframe tbody tr th {\n",
       "        vertical-align: top;\n",
       "    }\n",
       "</style>\n",
       "<table border=\"1\" class=\"dataframe\">\n",
       "  <thead>\n",
       "    <tr style=\"text-align: right;\">\n",
       "      <th></th>\n",
       "      <th>Date</th>\n",
       "      <th>Open</th>\n",
       "      <th>High</th>\n",
       "      <th>Low</th>\n",
       "      <th>Close</th>\n",
       "    </tr>\n",
       "    <tr>\n",
       "      <th>Date</th>\n",
       "      <th></th>\n",
       "      <th></th>\n",
       "      <th></th>\n",
       "      <th></th>\n",
       "      <th></th>\n",
       "    </tr>\n",
       "  </thead>\n",
       "  <tbody>\n",
       "    <tr>\n",
       "      <th>2018-01-24</th>\n",
       "      <td>24-Jan-18</td>\n",
       "      <td>1184.98</td>\n",
       "      <td>1187.05</td>\n",
       "      <td>1167.40</td>\n",
       "      <td>1171.29</td>\n",
       "    </tr>\n",
       "    <tr>\n",
       "      <th>2018-01-23</th>\n",
       "      <td>23-Jan-18</td>\n",
       "      <td>1170.62</td>\n",
       "      <td>1178.51</td>\n",
       "      <td>1167.25</td>\n",
       "      <td>1176.17</td>\n",
       "    </tr>\n",
       "    <tr>\n",
       "      <th>2018-01-22</th>\n",
       "      <td>22-Jan-18</td>\n",
       "      <td>1143.82</td>\n",
       "      <td>1166.88</td>\n",
       "      <td>1141.82</td>\n",
       "      <td>1164.16</td>\n",
       "    </tr>\n",
       "    <tr>\n",
       "      <th>2018-01-19</th>\n",
       "      <td>19-Jan-18</td>\n",
       "      <td>1138.03</td>\n",
       "      <td>1143.78</td>\n",
       "      <td>1132.50</td>\n",
       "      <td>1143.50</td>\n",
       "    </tr>\n",
       "    <tr>\n",
       "      <th>2018-01-18</th>\n",
       "      <td>18-Jan-18</td>\n",
       "      <td>1139.35</td>\n",
       "      <td>1140.58</td>\n",
       "      <td>1124.46</td>\n",
       "      <td>1135.97</td>\n",
       "    </tr>\n",
       "    <tr>\n",
       "      <th>2018-01-17</th>\n",
       "      <td>17-Jan-18</td>\n",
       "      <td>1136.36</td>\n",
       "      <td>1139.32</td>\n",
       "      <td>1123.49</td>\n",
       "      <td>1139.10</td>\n",
       "    </tr>\n",
       "    <tr>\n",
       "      <th>2018-01-16</th>\n",
       "      <td>16-Jan-18</td>\n",
       "      <td>1140.31</td>\n",
       "      <td>1148.88</td>\n",
       "      <td>1126.66</td>\n",
       "      <td>1130.70</td>\n",
       "    </tr>\n",
       "    <tr>\n",
       "      <th>2018-01-12</th>\n",
       "      <td>12-Jan-18</td>\n",
       "      <td>1110.10</td>\n",
       "      <td>1131.30</td>\n",
       "      <td>1108.01</td>\n",
       "      <td>1130.65</td>\n",
       "    </tr>\n",
       "    <tr>\n",
       "      <th>2018-01-11</th>\n",
       "      <td>11-Jan-18</td>\n",
       "      <td>1112.31</td>\n",
       "      <td>1114.85</td>\n",
       "      <td>1106.48</td>\n",
       "      <td>1112.05</td>\n",
       "    </tr>\n",
       "    <tr>\n",
       "      <th>2018-01-10</th>\n",
       "      <td>10-Jan-18</td>\n",
       "      <td>1107.00</td>\n",
       "      <td>1112.78</td>\n",
       "      <td>1103.98</td>\n",
       "      <td>1110.14</td>\n",
       "    </tr>\n",
       "    <tr>\n",
       "      <th>2018-01-09</th>\n",
       "      <td>9-Jan-18</td>\n",
       "      <td>1118.44</td>\n",
       "      <td>1118.44</td>\n",
       "      <td>1108.20</td>\n",
       "      <td>1112.79</td>\n",
       "    </tr>\n",
       "    <tr>\n",
       "      <th>2018-01-08</th>\n",
       "      <td>8-Jan-18</td>\n",
       "      <td>1111.00</td>\n",
       "      <td>1119.16</td>\n",
       "      <td>1110.00</td>\n",
       "      <td>1114.21</td>\n",
       "    </tr>\n",
       "    <tr>\n",
       "      <th>2018-01-05</th>\n",
       "      <td>5-Jan-18</td>\n",
       "      <td>1103.45</td>\n",
       "      <td>1113.58</td>\n",
       "      <td>1101.80</td>\n",
       "      <td>1110.29</td>\n",
       "    </tr>\n",
       "    <tr>\n",
       "      <th>2018-01-04</th>\n",
       "      <td>4-Jan-18</td>\n",
       "      <td>1097.09</td>\n",
       "      <td>1104.08</td>\n",
       "      <td>1094.26</td>\n",
       "      <td>1095.76</td>\n",
       "    </tr>\n",
       "    <tr>\n",
       "      <th>2018-01-03</th>\n",
       "      <td>3-Jan-18</td>\n",
       "      <td>1073.93</td>\n",
       "      <td>1096.10</td>\n",
       "      <td>1073.43</td>\n",
       "      <td>1091.52</td>\n",
       "    </tr>\n",
       "    <tr>\n",
       "      <th>2018-01-02</th>\n",
       "      <td>2-Jan-18</td>\n",
       "      <td>1053.02</td>\n",
       "      <td>1075.98</td>\n",
       "      <td>1053.02</td>\n",
       "      <td>1073.21</td>\n",
       "    </tr>\n",
       "    <tr>\n",
       "      <th>2017-12-29</th>\n",
       "      <td>29-Dec-17</td>\n",
       "      <td>1055.49</td>\n",
       "      <td>1058.05</td>\n",
       "      <td>1052.70</td>\n",
       "      <td>1053.40</td>\n",
       "    </tr>\n",
       "    <tr>\n",
       "      <th>2017-12-28</th>\n",
       "      <td>28-Dec-17</td>\n",
       "      <td>1062.25</td>\n",
       "      <td>1064.84</td>\n",
       "      <td>1053.38</td>\n",
       "      <td>1055.95</td>\n",
       "    </tr>\n",
       "    <tr>\n",
       "      <th>2017-12-27</th>\n",
       "      <td>27-Dec-17</td>\n",
       "      <td>1066.60</td>\n",
       "      <td>1068.27</td>\n",
       "      <td>1058.38</td>\n",
       "      <td>1060.20</td>\n",
       "    </tr>\n",
       "    <tr>\n",
       "      <th>2017-12-26</th>\n",
       "      <td>26-Dec-17</td>\n",
       "      <td>1068.64</td>\n",
       "      <td>1068.86</td>\n",
       "      <td>1058.64</td>\n",
       "      <td>1065.85</td>\n",
       "    </tr>\n",
       "    <tr>\n",
       "      <th>2017-12-22</th>\n",
       "      <td>22-Dec-17</td>\n",
       "      <td>1070.00</td>\n",
       "      <td>1071.72</td>\n",
       "      <td>1067.64</td>\n",
       "      <td>1068.86</td>\n",
       "    </tr>\n",
       "    <tr>\n",
       "      <th>2017-12-21</th>\n",
       "      <td>21-Dec-17</td>\n",
       "      <td>1075.39</td>\n",
       "      <td>1077.52</td>\n",
       "      <td>1069.00</td>\n",
       "      <td>1070.85</td>\n",
       "    </tr>\n",
       "    <tr>\n",
       "      <th>2017-12-20</th>\n",
       "      <td>20-Dec-17</td>\n",
       "      <td>1080.92</td>\n",
       "      <td>1081.24</td>\n",
       "      <td>1068.60</td>\n",
       "      <td>1073.56</td>\n",
       "    </tr>\n",
       "    <tr>\n",
       "      <th>2017-12-19</th>\n",
       "      <td>19-Dec-17</td>\n",
       "      <td>1083.02</td>\n",
       "      <td>1084.98</td>\n",
       "      <td>1072.27</td>\n",
       "      <td>1079.78</td>\n",
       "    </tr>\n",
       "    <tr>\n",
       "      <th>2017-12-18</th>\n",
       "      <td>18-Dec-17</td>\n",
       "      <td>1076.45</td>\n",
       "      <td>1086.49</td>\n",
       "      <td>1070.37</td>\n",
       "      <td>1085.09</td>\n",
       "    </tr>\n",
       "    <tr>\n",
       "      <th>2017-12-15</th>\n",
       "      <td>15-Dec-17</td>\n",
       "      <td>1063.78</td>\n",
       "      <td>1075.25</td>\n",
       "      <td>1060.09</td>\n",
       "      <td>1072.00</td>\n",
       "    </tr>\n",
       "    <tr>\n",
       "      <th>2017-12-14</th>\n",
       "      <td>14-Dec-17</td>\n",
       "      <td>1055.49</td>\n",
       "      <td>1067.08</td>\n",
       "      <td>1053.60</td>\n",
       "      <td>1057.47</td>\n",
       "    </tr>\n",
       "    <tr>\n",
       "      <th>2017-12-13</th>\n",
       "      <td>13-Dec-17</td>\n",
       "      <td>1052.08</td>\n",
       "      <td>1055.48</td>\n",
       "      <td>1046.58</td>\n",
       "      <td>1051.39</td>\n",
       "    </tr>\n",
       "    <tr>\n",
       "      <th>2017-12-12</th>\n",
       "      <td>12-Dec-17</td>\n",
       "      <td>1050.00</td>\n",
       "      <td>1062.50</td>\n",
       "      <td>1044.87</td>\n",
       "      <td>1048.77</td>\n",
       "    </tr>\n",
       "    <tr>\n",
       "      <th>2017-12-11</th>\n",
       "      <td>11-Dec-17</td>\n",
       "      <td>1051.11</td>\n",
       "      <td>1056.00</td>\n",
       "      <td>1044.12</td>\n",
       "      <td>1051.97</td>\n",
       "    </tr>\n",
       "    <tr>\n",
       "      <th>...</th>\n",
       "      <td>...</td>\n",
       "      <td>...</td>\n",
       "      <td>...</td>\n",
       "      <td>...</td>\n",
       "      <td>...</td>\n",
       "    </tr>\n",
       "    <tr>\n",
       "      <th>2017-06-09</th>\n",
       "      <td>9-Jun-17</td>\n",
       "      <td>1005.49</td>\n",
       "      <td>1005.50</td>\n",
       "      <td>953.37</td>\n",
       "      <td>970.12</td>\n",
       "    </tr>\n",
       "    <tr>\n",
       "      <th>2017-06-08</th>\n",
       "      <td>8-Jun-17</td>\n",
       "      <td>1004.23</td>\n",
       "      <td>1005.60</td>\n",
       "      <td>996.62</td>\n",
       "      <td>1004.28</td>\n",
       "    </tr>\n",
       "    <tr>\n",
       "      <th>2017-06-07</th>\n",
       "      <td>7-Jun-17</td>\n",
       "      <td>998.82</td>\n",
       "      <td>1003.91</td>\n",
       "      <td>995.81</td>\n",
       "      <td>1001.59</td>\n",
       "    </tr>\n",
       "    <tr>\n",
       "      <th>2017-06-06</th>\n",
       "      <td>6-Jun-17</td>\n",
       "      <td>1003.31</td>\n",
       "      <td>1008.61</td>\n",
       "      <td>994.80</td>\n",
       "      <td>996.68</td>\n",
       "    </tr>\n",
       "    <tr>\n",
       "      <th>2017-06-05</th>\n",
       "      <td>5-Jun-17</td>\n",
       "      <td>997.89</td>\n",
       "      <td>1007.40</td>\n",
       "      <td>995.45</td>\n",
       "      <td>1003.88</td>\n",
       "    </tr>\n",
       "    <tr>\n",
       "      <th>2017-06-02</th>\n",
       "      <td>2-Jun-17</td>\n",
       "      <td>988.59</td>\n",
       "      <td>996.48</td>\n",
       "      <td>987.07</td>\n",
       "      <td>996.12</td>\n",
       "    </tr>\n",
       "    <tr>\n",
       "      <th>2017-06-01</th>\n",
       "      <td>1-Jun-17</td>\n",
       "      <td>990.96</td>\n",
       "      <td>993.14</td>\n",
       "      <td>981.29</td>\n",
       "      <td>988.29</td>\n",
       "    </tr>\n",
       "    <tr>\n",
       "      <th>2017-05-31</th>\n",
       "      <td>31-May-17</td>\n",
       "      <td>996.21</td>\n",
       "      <td>999.60</td>\n",
       "      <td>981.68</td>\n",
       "      <td>987.09</td>\n",
       "    </tr>\n",
       "    <tr>\n",
       "      <th>2017-05-30</th>\n",
       "      <td>30-May-17</td>\n",
       "      <td>992.50</td>\n",
       "      <td>997.62</td>\n",
       "      <td>991.36</td>\n",
       "      <td>996.17</td>\n",
       "    </tr>\n",
       "    <tr>\n",
       "      <th>2017-05-26</th>\n",
       "      <td>26-May-17</td>\n",
       "      <td>992.00</td>\n",
       "      <td>996.39</td>\n",
       "      <td>987.36</td>\n",
       "      <td>993.27</td>\n",
       "    </tr>\n",
       "    <tr>\n",
       "      <th>2017-05-25</th>\n",
       "      <td>25-May-17</td>\n",
       "      <td>979.00</td>\n",
       "      <td>995.78</td>\n",
       "      <td>977.82</td>\n",
       "      <td>991.86</td>\n",
       "    </tr>\n",
       "    <tr>\n",
       "      <th>2017-05-24</th>\n",
       "      <td>24-May-17</td>\n",
       "      <td>975.26</td>\n",
       "      <td>978.12</td>\n",
       "      <td>971.63</td>\n",
       "      <td>977.61</td>\n",
       "    </tr>\n",
       "    <tr>\n",
       "      <th>2017-05-23</th>\n",
       "      <td>23-May-17</td>\n",
       "      <td>969.96</td>\n",
       "      <td>974.51</td>\n",
       "      <td>964.50</td>\n",
       "      <td>970.55</td>\n",
       "    </tr>\n",
       "    <tr>\n",
       "      <th>2017-05-22</th>\n",
       "      <td>22-May-17</td>\n",
       "      <td>957.00</td>\n",
       "      <td>964.82</td>\n",
       "      <td>956.56</td>\n",
       "      <td>964.07</td>\n",
       "    </tr>\n",
       "    <tr>\n",
       "      <th>2017-05-19</th>\n",
       "      <td>19-May-17</td>\n",
       "      <td>952.82</td>\n",
       "      <td>959.56</td>\n",
       "      <td>952.00</td>\n",
       "      <td>954.65</td>\n",
       "    </tr>\n",
       "    <tr>\n",
       "      <th>2017-05-18</th>\n",
       "      <td>18-May-17</td>\n",
       "      <td>943.20</td>\n",
       "      <td>954.18</td>\n",
       "      <td>941.27</td>\n",
       "      <td>950.50</td>\n",
       "    </tr>\n",
       "    <tr>\n",
       "      <th>2017-05-17</th>\n",
       "      <td>17-May-17</td>\n",
       "      <td>959.70</td>\n",
       "      <td>960.99</td>\n",
       "      <td>940.06</td>\n",
       "      <td>942.17</td>\n",
       "    </tr>\n",
       "    <tr>\n",
       "      <th>2017-05-16</th>\n",
       "      <td>16-May-17</td>\n",
       "      <td>963.55</td>\n",
       "      <td>965.90</td>\n",
       "      <td>960.35</td>\n",
       "      <td>964.61</td>\n",
       "    </tr>\n",
       "    <tr>\n",
       "      <th>2017-05-15</th>\n",
       "      <td>15-May-17</td>\n",
       "      <td>955.29</td>\n",
       "      <td>962.70</td>\n",
       "      <td>952.82</td>\n",
       "      <td>959.22</td>\n",
       "    </tr>\n",
       "    <tr>\n",
       "      <th>2017-05-12</th>\n",
       "      <td>12-May-17</td>\n",
       "      <td>957.85</td>\n",
       "      <td>957.98</td>\n",
       "      <td>952.06</td>\n",
       "      <td>955.14</td>\n",
       "    </tr>\n",
       "    <tr>\n",
       "      <th>2017-05-11</th>\n",
       "      <td>11-May-17</td>\n",
       "      <td>951.29</td>\n",
       "      <td>957.99</td>\n",
       "      <td>948.61</td>\n",
       "      <td>955.89</td>\n",
       "    </tr>\n",
       "    <tr>\n",
       "      <th>2017-05-10</th>\n",
       "      <td>10-May-17</td>\n",
       "      <td>956.22</td>\n",
       "      <td>956.71</td>\n",
       "      <td>949.84</td>\n",
       "      <td>954.84</td>\n",
       "    </tr>\n",
       "    <tr>\n",
       "      <th>2017-05-09</th>\n",
       "      <td>9-May-17</td>\n",
       "      <td>961.33</td>\n",
       "      <td>962.20</td>\n",
       "      <td>954.40</td>\n",
       "      <td>956.71</td>\n",
       "    </tr>\n",
       "    <tr>\n",
       "      <th>2017-05-08</th>\n",
       "      <td>8-May-17</td>\n",
       "      <td>947.45</td>\n",
       "      <td>960.99</td>\n",
       "      <td>947.40</td>\n",
       "      <td>958.69</td>\n",
       "    </tr>\n",
       "    <tr>\n",
       "      <th>2017-05-05</th>\n",
       "      <td>5-May-17</td>\n",
       "      <td>956.72</td>\n",
       "      <td>958.44</td>\n",
       "      <td>948.10</td>\n",
       "      <td>950.28</td>\n",
       "    </tr>\n",
       "    <tr>\n",
       "      <th>2017-05-04</th>\n",
       "      <td>4-May-17</td>\n",
       "      <td>950.29</td>\n",
       "      <td>959.14</td>\n",
       "      <td>947.37</td>\n",
       "      <td>954.72</td>\n",
       "    </tr>\n",
       "    <tr>\n",
       "      <th>2017-05-03</th>\n",
       "      <td>3-May-17</td>\n",
       "      <td>936.05</td>\n",
       "      <td>950.20</td>\n",
       "      <td>935.21</td>\n",
       "      <td>948.45</td>\n",
       "    </tr>\n",
       "    <tr>\n",
       "      <th>2017-05-02</th>\n",
       "      <td>2-May-17</td>\n",
       "      <td>933.27</td>\n",
       "      <td>942.98</td>\n",
       "      <td>931.00</td>\n",
       "      <td>937.09</td>\n",
       "    </tr>\n",
       "    <tr>\n",
       "      <th>2017-05-01</th>\n",
       "      <td>1-May-17</td>\n",
       "      <td>924.15</td>\n",
       "      <td>935.82</td>\n",
       "      <td>920.80</td>\n",
       "      <td>932.82</td>\n",
       "    </tr>\n",
       "    <tr>\n",
       "      <th>2017-04-28</th>\n",
       "      <td>28-Apr-17</td>\n",
       "      <td>929.00</td>\n",
       "      <td>935.90</td>\n",
       "      <td>923.22</td>\n",
       "      <td>924.52</td>\n",
       "    </tr>\n",
       "  </tbody>\n",
       "</table>\n",
       "<p>187 rows × 5 columns</p>\n",
       "</div>"
      ],
      "text/plain": [
       "                 Date     Open     High      Low    Close\n",
       "Date                                                     \n",
       "2018-01-24  24-Jan-18  1184.98  1187.05  1167.40  1171.29\n",
       "2018-01-23  23-Jan-18  1170.62  1178.51  1167.25  1176.17\n",
       "2018-01-22  22-Jan-18  1143.82  1166.88  1141.82  1164.16\n",
       "2018-01-19  19-Jan-18  1138.03  1143.78  1132.50  1143.50\n",
       "2018-01-18  18-Jan-18  1139.35  1140.58  1124.46  1135.97\n",
       "2018-01-17  17-Jan-18  1136.36  1139.32  1123.49  1139.10\n",
       "2018-01-16  16-Jan-18  1140.31  1148.88  1126.66  1130.70\n",
       "2018-01-12  12-Jan-18  1110.10  1131.30  1108.01  1130.65\n",
       "2018-01-11  11-Jan-18  1112.31  1114.85  1106.48  1112.05\n",
       "2018-01-10  10-Jan-18  1107.00  1112.78  1103.98  1110.14\n",
       "2018-01-09   9-Jan-18  1118.44  1118.44  1108.20  1112.79\n",
       "2018-01-08   8-Jan-18  1111.00  1119.16  1110.00  1114.21\n",
       "2018-01-05   5-Jan-18  1103.45  1113.58  1101.80  1110.29\n",
       "2018-01-04   4-Jan-18  1097.09  1104.08  1094.26  1095.76\n",
       "2018-01-03   3-Jan-18  1073.93  1096.10  1073.43  1091.52\n",
       "2018-01-02   2-Jan-18  1053.02  1075.98  1053.02  1073.21\n",
       "2017-12-29  29-Dec-17  1055.49  1058.05  1052.70  1053.40\n",
       "2017-12-28  28-Dec-17  1062.25  1064.84  1053.38  1055.95\n",
       "2017-12-27  27-Dec-17  1066.60  1068.27  1058.38  1060.20\n",
       "2017-12-26  26-Dec-17  1068.64  1068.86  1058.64  1065.85\n",
       "2017-12-22  22-Dec-17  1070.00  1071.72  1067.64  1068.86\n",
       "2017-12-21  21-Dec-17  1075.39  1077.52  1069.00  1070.85\n",
       "2017-12-20  20-Dec-17  1080.92  1081.24  1068.60  1073.56\n",
       "2017-12-19  19-Dec-17  1083.02  1084.98  1072.27  1079.78\n",
       "2017-12-18  18-Dec-17  1076.45  1086.49  1070.37  1085.09\n",
       "2017-12-15  15-Dec-17  1063.78  1075.25  1060.09  1072.00\n",
       "2017-12-14  14-Dec-17  1055.49  1067.08  1053.60  1057.47\n",
       "2017-12-13  13-Dec-17  1052.08  1055.48  1046.58  1051.39\n",
       "2017-12-12  12-Dec-17  1050.00  1062.50  1044.87  1048.77\n",
       "2017-12-11  11-Dec-17  1051.11  1056.00  1044.12  1051.97\n",
       "...               ...      ...      ...      ...      ...\n",
       "2017-06-09   9-Jun-17  1005.49  1005.50   953.37   970.12\n",
       "2017-06-08   8-Jun-17  1004.23  1005.60   996.62  1004.28\n",
       "2017-06-07   7-Jun-17   998.82  1003.91   995.81  1001.59\n",
       "2017-06-06   6-Jun-17  1003.31  1008.61   994.80   996.68\n",
       "2017-06-05   5-Jun-17   997.89  1007.40   995.45  1003.88\n",
       "2017-06-02   2-Jun-17   988.59   996.48   987.07   996.12\n",
       "2017-06-01   1-Jun-17   990.96   993.14   981.29   988.29\n",
       "2017-05-31  31-May-17   996.21   999.60   981.68   987.09\n",
       "2017-05-30  30-May-17   992.50   997.62   991.36   996.17\n",
       "2017-05-26  26-May-17   992.00   996.39   987.36   993.27\n",
       "2017-05-25  25-May-17   979.00   995.78   977.82   991.86\n",
       "2017-05-24  24-May-17   975.26   978.12   971.63   977.61\n",
       "2017-05-23  23-May-17   969.96   974.51   964.50   970.55\n",
       "2017-05-22  22-May-17   957.00   964.82   956.56   964.07\n",
       "2017-05-19  19-May-17   952.82   959.56   952.00   954.65\n",
       "2017-05-18  18-May-17   943.20   954.18   941.27   950.50\n",
       "2017-05-17  17-May-17   959.70   960.99   940.06   942.17\n",
       "2017-05-16  16-May-17   963.55   965.90   960.35   964.61\n",
       "2017-05-15  15-May-17   955.29   962.70   952.82   959.22\n",
       "2017-05-12  12-May-17   957.85   957.98   952.06   955.14\n",
       "2017-05-11  11-May-17   951.29   957.99   948.61   955.89\n",
       "2017-05-10  10-May-17   956.22   956.71   949.84   954.84\n",
       "2017-05-09   9-May-17   961.33   962.20   954.40   956.71\n",
       "2017-05-08   8-May-17   947.45   960.99   947.40   958.69\n",
       "2017-05-05   5-May-17   956.72   958.44   948.10   950.28\n",
       "2017-05-04   4-May-17   950.29   959.14   947.37   954.72\n",
       "2017-05-03   3-May-17   936.05   950.20   935.21   948.45\n",
       "2017-05-02   2-May-17   933.27   942.98   931.00   937.09\n",
       "2017-05-01   1-May-17   924.15   935.82   920.80   932.82\n",
       "2017-04-28  28-Apr-17   929.00   935.90   923.22   924.52\n",
       "\n",
       "[187 rows x 5 columns]"
      ]
     },
     "execution_count": 74,
     "metadata": {},
     "output_type": "execute_result"
    }
   ],
   "source": [
    "# drop na\n",
    "dfg[dfg>900].drop('Volume',axis=1).dropna()"
   ]
  },
  {
   "cell_type": "code",
   "execution_count": 75,
   "metadata": {},
   "outputs": [
    {
     "name": "stdout",
     "output_type": "stream",
     "text": [
      "<class 'numpy.ndarray'>\n",
      "\n"
     ]
    },
    {
     "data": {
      "text/plain": [
       "array([['24-Jan-18', 1184.98, 1187.05, 1167.4, 1171.29, 1856429],\n",
       "       ['23-Jan-18', 1170.62, 1178.51, 1167.25, 1176.17, 1956865],\n",
       "       ['22-Jan-18', 1143.82, 1166.88, 1141.82, 1164.16, 1477520],\n",
       "       ..., \n",
       "       ['30-Jan-17', 837.06, 837.23, 821.03, 823.83, 3516933],\n",
       "       ['27-Jan-17', 859.0, 867.0, 841.9, 845.03, 3752497],\n",
       "       ['26-Jan-17', 859.05, 861.0, 850.52, 856.98, 3493251]], dtype=object)"
      ]
     },
     "execution_count": 75,
     "metadata": {},
     "output_type": "execute_result"
    }
   ],
   "source": [
    "# If you want the values in an np array\n",
    "npg = dfg.values\n",
    "print(type(npg))\n",
    "print()\n",
    "npg"
   ]
  },
  {
   "cell_type": "markdown",
   "metadata": {},
   "source": [
    "### Selecting or Viewing Data within a DataFrame\n",
    "Note: While standard Python / Numpy expressions for selecting and setting are intuitive and come in handy for interactive work, for production code, we recommend the optimized pandas data access methods, .at, .iat, .loc, .iloc and .ix. (from 10 min guide to Pandas)\n"
   ]
  },
  {
   "cell_type": "code",
   "execution_count": 76,
   "metadata": {},
   "outputs": [
    {
     "data": {
      "text/plain": [
       "Date\n",
       "2018-01-24    1171.29\n",
       "2018-01-23    1176.17\n",
       "2018-01-22    1164.16\n",
       "2018-01-19    1143.50\n",
       "2018-01-18    1135.97\n",
       "Name: Close, dtype: float64"
      ]
     },
     "execution_count": 76,
     "metadata": {},
     "output_type": "execute_result"
    }
   ],
   "source": [
    "# Lets print the five first Close prices for Google\n",
    "# This is a new Series (like a new table)\n",
    "dfg['Close'][0:5]"
   ]
  },
  {
   "cell_type": "code",
   "execution_count": 77,
   "metadata": {},
   "outputs": [
    {
     "data": {
      "text/html": [
       "<div>\n",
       "<style>\n",
       "    .dataframe thead tr:only-child th {\n",
       "        text-align: right;\n",
       "    }\n",
       "\n",
       "    .dataframe thead th {\n",
       "        text-align: left;\n",
       "    }\n",
       "\n",
       "    .dataframe tbody tr th {\n",
       "        vertical-align: top;\n",
       "    }\n",
       "</style>\n",
       "<table border=\"1\" class=\"dataframe\">\n",
       "  <thead>\n",
       "    <tr style=\"text-align: right;\">\n",
       "      <th></th>\n",
       "      <th>Close</th>\n",
       "      <th>High</th>\n",
       "    </tr>\n",
       "    <tr>\n",
       "      <th>Date</th>\n",
       "      <th></th>\n",
       "      <th></th>\n",
       "    </tr>\n",
       "  </thead>\n",
       "  <tbody>\n",
       "    <tr>\n",
       "      <th>2018-01-24</th>\n",
       "      <td>1171.29</td>\n",
       "      <td>1187.05</td>\n",
       "    </tr>\n",
       "    <tr>\n",
       "      <th>2018-01-23</th>\n",
       "      <td>1176.17</td>\n",
       "      <td>1178.51</td>\n",
       "    </tr>\n",
       "    <tr>\n",
       "      <th>2018-01-22</th>\n",
       "      <td>1164.16</td>\n",
       "      <td>1166.88</td>\n",
       "    </tr>\n",
       "  </tbody>\n",
       "</table>\n",
       "</div>"
      ],
      "text/plain": [
       "              Close     High\n",
       "Date                        \n",
       "2018-01-24  1171.29  1187.05\n",
       "2018-01-23  1176.17  1178.51\n",
       "2018-01-22  1164.16  1166.88"
      ]
     },
     "execution_count": 77,
     "metadata": {},
     "output_type": "execute_result"
    }
   ],
   "source": [
    "# Lets print the 2 column, and top 3 values\n",
    "dfg[['Close','High']][0:3]"
   ]
  },
  {
   "cell_type": "code",
   "execution_count": 78,
   "metadata": {},
   "outputs": [
    {
     "data": {
      "text/html": [
       "<div>\n",
       "<style>\n",
       "    .dataframe thead tr:only-child th {\n",
       "        text-align: right;\n",
       "    }\n",
       "\n",
       "    .dataframe thead th {\n",
       "        text-align: left;\n",
       "    }\n",
       "\n",
       "    .dataframe tbody tr th {\n",
       "        vertical-align: top;\n",
       "    }\n",
       "</style>\n",
       "<table border=\"1\" class=\"dataframe\">\n",
       "  <thead>\n",
       "    <tr style=\"text-align: right;\">\n",
       "      <th></th>\n",
       "      <th>Date</th>\n",
       "      <th>Open</th>\n",
       "      <th>High</th>\n",
       "      <th>Low</th>\n",
       "      <th>Close</th>\n",
       "      <th>Volume</th>\n",
       "    </tr>\n",
       "    <tr>\n",
       "      <th>Date</th>\n",
       "      <th></th>\n",
       "      <th></th>\n",
       "      <th></th>\n",
       "      <th></th>\n",
       "      <th></th>\n",
       "      <th></th>\n",
       "    </tr>\n",
       "  </thead>\n",
       "  <tbody>\n",
       "    <tr>\n",
       "      <th>2018-01-23</th>\n",
       "      <td>23-Jan-18</td>\n",
       "      <td>1170.62</td>\n",
       "      <td>1178.51</td>\n",
       "      <td>1167.25</td>\n",
       "      <td>1176.17</td>\n",
       "      <td>1956865</td>\n",
       "    </tr>\n",
       "    <tr>\n",
       "      <th>2018-01-22</th>\n",
       "      <td>22-Jan-18</td>\n",
       "      <td>1143.82</td>\n",
       "      <td>1166.88</td>\n",
       "      <td>1141.82</td>\n",
       "      <td>1164.16</td>\n",
       "      <td>1477520</td>\n",
       "    </tr>\n",
       "    <tr>\n",
       "      <th>2018-01-19</th>\n",
       "      <td>19-Jan-18</td>\n",
       "      <td>1138.03</td>\n",
       "      <td>1143.78</td>\n",
       "      <td>1132.50</td>\n",
       "      <td>1143.50</td>\n",
       "      <td>1527554</td>\n",
       "    </tr>\n",
       "    <tr>\n",
       "      <th>2018-01-18</th>\n",
       "      <td>18-Jan-18</td>\n",
       "      <td>1139.35</td>\n",
       "      <td>1140.58</td>\n",
       "      <td>1124.46</td>\n",
       "      <td>1135.97</td>\n",
       "      <td>1374873</td>\n",
       "    </tr>\n",
       "  </tbody>\n",
       "</table>\n",
       "</div>"
      ],
      "text/plain": [
       "                 Date     Open     High      Low    Close   Volume\n",
       "Date                                                              \n",
       "2018-01-23  23-Jan-18  1170.62  1178.51  1167.25  1176.17  1956865\n",
       "2018-01-22  22-Jan-18  1143.82  1166.88  1141.82  1164.16  1477520\n",
       "2018-01-19  19-Jan-18  1138.03  1143.78  1132.50  1143.50  1527554\n",
       "2018-01-18  18-Jan-18  1139.35  1140.58  1124.46  1135.97  1374873"
      ]
     },
     "execution_count": 78,
     "metadata": {},
     "output_type": "execute_result"
    }
   ],
   "source": [
    "# A slice: by rows (row numbers)\n",
    "dfg[1:5] # 2nd to 5th element"
   ]
  },
  {
   "cell_type": "markdown",
   "metadata": {},
   "source": [
    "## .loc()"
   ]
  },
  {
   "cell_type": "code",
   "execution_count": 79,
   "metadata": {},
   "outputs": [
    {
     "data": {
      "text/html": [
       "<div>\n",
       "<style>\n",
       "    .dataframe thead tr:only-child th {\n",
       "        text-align: right;\n",
       "    }\n",
       "\n",
       "    .dataframe thead th {\n",
       "        text-align: left;\n",
       "    }\n",
       "\n",
       "    .dataframe tbody tr th {\n",
       "        vertical-align: top;\n",
       "    }\n",
       "</style>\n",
       "<table border=\"1\" class=\"dataframe\">\n",
       "  <thead>\n",
       "    <tr style=\"text-align: right;\">\n",
       "      <th></th>\n",
       "      <th>Open</th>\n",
       "      <th>High</th>\n",
       "      <th>Low</th>\n",
       "    </tr>\n",
       "    <tr>\n",
       "      <th>Date</th>\n",
       "      <th></th>\n",
       "      <th></th>\n",
       "      <th></th>\n",
       "    </tr>\n",
       "  </thead>\n",
       "  <tbody>\n",
       "    <tr>\n",
       "      <th>2017-08-31</th>\n",
       "      <td>946.30</td>\n",
       "      <td>957.20</td>\n",
       "      <td>946.25</td>\n",
       "    </tr>\n",
       "    <tr>\n",
       "      <th>2017-08-30</th>\n",
       "      <td>935.67</td>\n",
       "      <td>945.86</td>\n",
       "      <td>934.05</td>\n",
       "    </tr>\n",
       "    <tr>\n",
       "      <th>2017-08-29</th>\n",
       "      <td>919.95</td>\n",
       "      <td>938.19</td>\n",
       "      <td>919.31</td>\n",
       "    </tr>\n",
       "    <tr>\n",
       "      <th>2017-08-28</th>\n",
       "      <td>931.88</td>\n",
       "      <td>934.85</td>\n",
       "      <td>926.11</td>\n",
       "    </tr>\n",
       "    <tr>\n",
       "      <th>2017-08-25</th>\n",
       "      <td>939.21</td>\n",
       "      <td>940.73</td>\n",
       "      <td>930.10</td>\n",
       "    </tr>\n",
       "    <tr>\n",
       "      <th>2017-08-24</th>\n",
       "      <td>943.71</td>\n",
       "      <td>946.31</td>\n",
       "      <td>930.74</td>\n",
       "    </tr>\n",
       "    <tr>\n",
       "      <th>2017-08-23</th>\n",
       "      <td>937.00</td>\n",
       "      <td>945.42</td>\n",
       "      <td>935.24</td>\n",
       "    </tr>\n",
       "    <tr>\n",
       "      <th>2017-08-22</th>\n",
       "      <td>926.96</td>\n",
       "      <td>941.96</td>\n",
       "      <td>926.17</td>\n",
       "    </tr>\n",
       "    <tr>\n",
       "      <th>2017-08-21</th>\n",
       "      <td>925.77</td>\n",
       "      <td>928.25</td>\n",
       "      <td>918.60</td>\n",
       "    </tr>\n",
       "  </tbody>\n",
       "</table>\n",
       "</div>"
      ],
      "text/plain": [
       "              Open    High     Low\n",
       "Date                              \n",
       "2017-08-31  946.30  957.20  946.25\n",
       "2017-08-30  935.67  945.86  934.05\n",
       "2017-08-29  919.95  938.19  919.31\n",
       "2017-08-28  931.88  934.85  926.11\n",
       "2017-08-25  939.21  940.73  930.10\n",
       "2017-08-24  943.71  946.31  930.74\n",
       "2017-08-23  937.00  945.42  935.24\n",
       "2017-08-22  926.96  941.96  926.17\n",
       "2017-08-21  925.77  928.25  918.60"
      ]
     },
     "execution_count": 79,
     "metadata": {},
     "output_type": "execute_result"
    }
   ],
   "source": [
    "# Getting a cross section with .loc - BY VALUES of the index and columns\n",
    "# df.loc[a:b, x:y], by rows and column location\n",
    "\n",
    "# Note: You have to know indices and columns\n",
    "\n",
    "dfg.loc['2017-08-31':'2017-08-21','Open':'Low']"
   ]
  },
  {
   "cell_type": "markdown",
   "metadata": {},
   "source": [
    "## .iloc()"
   ]
  },
  {
   "cell_type": "code",
   "execution_count": 80,
   "metadata": {},
   "outputs": [
    {
     "data": {
      "text/plain": [
       "Index(['Date', 'Open', 'High', 'Low', 'Close', 'Volume'], dtype='object')"
      ]
     },
     "execution_count": 80,
     "metadata": {},
     "output_type": "execute_result"
    }
   ],
   "source": [
    "dfg.columns"
   ]
  },
  {
   "cell_type": "code",
   "execution_count": 81,
   "metadata": {},
   "outputs": [
    {
     "data": {
      "text/html": [
       "<div>\n",
       "<style>\n",
       "    .dataframe thead tr:only-child th {\n",
       "        text-align: right;\n",
       "    }\n",
       "\n",
       "    .dataframe thead th {\n",
       "        text-align: left;\n",
       "    }\n",
       "\n",
       "    .dataframe tbody tr th {\n",
       "        vertical-align: top;\n",
       "    }\n",
       "</style>\n",
       "<table border=\"1\" class=\"dataframe\">\n",
       "  <thead>\n",
       "    <tr style=\"text-align: right;\">\n",
       "      <th></th>\n",
       "      <th>Low</th>\n",
       "      <th>Close</th>\n",
       "    </tr>\n",
       "    <tr>\n",
       "      <th>Date</th>\n",
       "      <th></th>\n",
       "      <th></th>\n",
       "    </tr>\n",
       "  </thead>\n",
       "  <tbody>\n",
       "    <tr>\n",
       "      <th>2018-01-23</th>\n",
       "      <td>1167.25</td>\n",
       "      <td>1176.17</td>\n",
       "    </tr>\n",
       "    <tr>\n",
       "      <th>2018-01-22</th>\n",
       "      <td>1141.82</td>\n",
       "      <td>1164.16</td>\n",
       "    </tr>\n",
       "    <tr>\n",
       "      <th>2018-01-19</th>\n",
       "      <td>1132.50</td>\n",
       "      <td>1143.50</td>\n",
       "    </tr>\n",
       "  </tbody>\n",
       "</table>\n",
       "</div>"
      ],
      "text/plain": [
       "                Low    Close\n",
       "Date                        \n",
       "2018-01-23  1167.25  1176.17\n",
       "2018-01-22  1141.82  1164.16\n",
       "2018-01-19  1132.50  1143.50"
      ]
     },
     "execution_count": 81,
     "metadata": {},
     "output_type": "execute_result"
    }
   ],
   "source": [
    "# .iloc slicing at specific location - BY POSITION in the table\n",
    "# Recall:\n",
    "# dfg[a:b] by rows\n",
    "# dfg[[col]] or df[[col1, col2]] by columns\n",
    "# df.loc[a:b, x:y], by index and column values + location\n",
    "# df.iloc[3:5,0:2], numeric position in table\n",
    "\n",
    "dfg.iloc[1:4,3:5] # 2nd to 4th row, 4th to 5th column"
   ]
  },
  {
   "cell_type": "code",
   "execution_count": 82,
   "metadata": {},
   "outputs": [
    {
     "name": "stdout",
     "output_type": "stream",
     "text": [
      "Date      19-Jan-18\n",
      "Open        1138.03\n",
      "High        1143.78\n",
      "Low          1132.5\n",
      "Close        1143.5\n",
      "Volume      1527554\n",
      "Name: 2018-01-19 00:00:00, dtype: object\n"
     ]
    }
   ],
   "source": [
    "# Data only from row with index value '3'\n",
    "print (dfg.iloc[3])"
   ]
  },
  {
   "cell_type": "code",
   "execution_count": 83,
   "metadata": {},
   "outputs": [
    {
     "data": {
      "text/html": [
       "<div>\n",
       "<style>\n",
       "    .dataframe thead tr:only-child th {\n",
       "        text-align: right;\n",
       "    }\n",
       "\n",
       "    .dataframe thead th {\n",
       "        text-align: left;\n",
       "    }\n",
       "\n",
       "    .dataframe tbody tr th {\n",
       "        vertical-align: top;\n",
       "    }\n",
       "</style>\n",
       "<table border=\"1\" class=\"dataframe\">\n",
       "  <thead>\n",
       "    <tr style=\"text-align: right;\">\n",
       "      <th></th>\n",
       "      <th>Date</th>\n",
       "      <th>Open</th>\n",
       "      <th>High</th>\n",
       "      <th>Low</th>\n",
       "      <th>Close</th>\n",
       "      <th>Volume</th>\n",
       "    </tr>\n",
       "    <tr>\n",
       "      <th>Date</th>\n",
       "      <th></th>\n",
       "      <th></th>\n",
       "      <th></th>\n",
       "      <th></th>\n",
       "      <th></th>\n",
       "      <th></th>\n",
       "    </tr>\n",
       "  </thead>\n",
       "  <tbody>\n",
       "    <tr>\n",
       "      <th>2018-01-23</th>\n",
       "      <td>23-Jan-18</td>\n",
       "      <td>1170.62</td>\n",
       "      <td>1178.51</td>\n",
       "      <td>1167.25</td>\n",
       "      <td>1176.17</td>\n",
       "      <td>1956865</td>\n",
       "    </tr>\n",
       "    <tr>\n",
       "      <th>2018-01-22</th>\n",
       "      <td>22-Jan-18</td>\n",
       "      <td>1143.82</td>\n",
       "      <td>1166.88</td>\n",
       "      <td>1141.82</td>\n",
       "      <td>1164.16</td>\n",
       "      <td>1477520</td>\n",
       "    </tr>\n",
       "  </tbody>\n",
       "</table>\n",
       "</div>"
      ],
      "text/plain": [
       "                 Date     Open     High      Low    Close   Volume\n",
       "Date                                                              \n",
       "2018-01-23  23-Jan-18  1170.62  1178.51  1167.25  1176.17  1956865\n",
       "2018-01-22  22-Jan-18  1143.82  1166.88  1141.82  1164.16  1477520"
      ]
     },
     "execution_count": 83,
     "metadata": {},
     "output_type": "execute_result"
    }
   ],
   "source": [
    "# iloc will accept a range with ':', just like numpy\n",
    "dfg.iloc[1:3,:]"
   ]
  },
  {
   "cell_type": "code",
   "execution_count": 84,
   "metadata": {},
   "outputs": [
    {
     "name": "stdout",
     "output_type": "stream",
     "text": [
      "1143.82\n",
      "1143.82\n"
     ]
    }
   ],
   "source": [
    "# Can also return specific value\n",
    "print (dfg.iloc[2,1])\n",
    "# same as above but faster for one single scaler value\n",
    "print (dfg.iat[2,1])"
   ]
  },
  {
   "cell_type": "markdown",
   "metadata": {},
   "source": [
    "### More Basic Statistics"
   ]
  },
  {
   "cell_type": "code",
   "execution_count": 85,
   "metadata": {},
   "outputs": [
    {
     "data": {
      "text/html": [
       "<div>\n",
       "<style>\n",
       "    .dataframe thead tr:only-child th {\n",
       "        text-align: right;\n",
       "    }\n",
       "\n",
       "    .dataframe thead th {\n",
       "        text-align: left;\n",
       "    }\n",
       "\n",
       "    .dataframe tbody tr th {\n",
       "        vertical-align: top;\n",
       "    }\n",
       "</style>\n",
       "<table border=\"1\" class=\"dataframe\">\n",
       "  <thead>\n",
       "    <tr style=\"text-align: right;\">\n",
       "      <th></th>\n",
       "      <th>Open</th>\n",
       "      <th>High</th>\n",
       "      <th>Low</th>\n",
       "      <th>Close</th>\n",
       "      <th>Volume</th>\n",
       "    </tr>\n",
       "  </thead>\n",
       "  <tbody>\n",
       "    <tr>\n",
       "      <th>count</th>\n",
       "      <td>251.000000</td>\n",
       "      <td>251.000000</td>\n",
       "      <td>251.000000</td>\n",
       "      <td>251.000000</td>\n",
       "      <td>2.510000e+02</td>\n",
       "    </tr>\n",
       "    <tr>\n",
       "      <th>mean</th>\n",
       "      <td>958.247649</td>\n",
       "      <td>964.304741</td>\n",
       "      <td>951.905259</td>\n",
       "      <td>958.707849</td>\n",
       "      <td>1.616900e+06</td>\n",
       "    </tr>\n",
       "    <tr>\n",
       "      <th>std</th>\n",
       "      <td>81.862519</td>\n",
       "      <td>83.046095</td>\n",
       "      <td>81.104724</td>\n",
       "      <td>82.356829</td>\n",
       "      <td>6.891981e+05</td>\n",
       "    </tr>\n",
       "    <tr>\n",
       "      <th>min</th>\n",
       "      <td>815.000000</td>\n",
       "      <td>822.390000</td>\n",
       "      <td>812.050000</td>\n",
       "      <td>815.240000</td>\n",
       "      <td>7.268980e+05</td>\n",
       "    </tr>\n",
       "    <tr>\n",
       "      <th>25%</th>\n",
       "      <td>890.695000</td>\n",
       "      <td>893.185000</td>\n",
       "      <td>886.165000</td>\n",
       "      <td>890.290000</td>\n",
       "      <td>1.191540e+06</td>\n",
       "    </tr>\n",
       "    <tr>\n",
       "      <th>50%</th>\n",
       "      <td>956.220000</td>\n",
       "      <td>960.990000</td>\n",
       "      <td>947.370000</td>\n",
       "      <td>955.240000</td>\n",
       "      <td>1.440982e+06</td>\n",
       "    </tr>\n",
       "    <tr>\n",
       "      <th>75%</th>\n",
       "      <td>1008.275000</td>\n",
       "      <td>1013.280000</td>\n",
       "      <td>1002.295000</td>\n",
       "      <td>1008.610000</td>\n",
       "      <td>1.797520e+06</td>\n",
       "    </tr>\n",
       "    <tr>\n",
       "      <th>max</th>\n",
       "      <td>1184.980000</td>\n",
       "      <td>1187.050000</td>\n",
       "      <td>1167.400000</td>\n",
       "      <td>1176.170000</td>\n",
       "      <td>5.933602e+06</td>\n",
       "    </tr>\n",
       "  </tbody>\n",
       "</table>\n",
       "</div>"
      ],
      "text/plain": [
       "              Open         High          Low        Close        Volume\n",
       "count   251.000000   251.000000   251.000000   251.000000  2.510000e+02\n",
       "mean    958.247649   964.304741   951.905259   958.707849  1.616900e+06\n",
       "std      81.862519    83.046095    81.104724    82.356829  6.891981e+05\n",
       "min     815.000000   822.390000   812.050000   815.240000  7.268980e+05\n",
       "25%     890.695000   893.185000   886.165000   890.290000  1.191540e+06\n",
       "50%     956.220000   960.990000   947.370000   955.240000  1.440982e+06\n",
       "75%    1008.275000  1013.280000  1002.295000  1008.610000  1.797520e+06\n",
       "max    1184.980000  1187.050000  1167.400000  1176.170000  5.933602e+06"
      ]
     },
     "execution_count": 85,
     "metadata": {},
     "output_type": "execute_result"
    }
   ],
   "source": [
    "# A quick way to get statistics\n",
    "dfg.describe()\n",
    "# dfg.describe()['A'][1]\n",
    "# dfg.describe()[2:3]"
   ]
  },
  {
   "cell_type": "code",
   "execution_count": 86,
   "metadata": {},
   "outputs": [
    {
     "data": {
      "text/html": [
       "<div>\n",
       "<style>\n",
       "    .dataframe thead tr:only-child th {\n",
       "        text-align: right;\n",
       "    }\n",
       "\n",
       "    .dataframe thead th {\n",
       "        text-align: left;\n",
       "    }\n",
       "\n",
       "    .dataframe tbody tr th {\n",
       "        vertical-align: top;\n",
       "    }\n",
       "</style>\n",
       "<table border=\"1\" class=\"dataframe\">\n",
       "  <thead>\n",
       "    <tr style=\"text-align: right;\">\n",
       "      <th></th>\n",
       "      <th>High</th>\n",
       "      <th>Low</th>\n",
       "    </tr>\n",
       "  </thead>\n",
       "  <tbody>\n",
       "    <tr>\n",
       "      <th>mean</th>\n",
       "      <td>964.304741</td>\n",
       "      <td>951.905259</td>\n",
       "    </tr>\n",
       "    <tr>\n",
       "      <th>std</th>\n",
       "      <td>83.046095</td>\n",
       "      <td>81.104724</td>\n",
       "    </tr>\n",
       "  </tbody>\n",
       "</table>\n",
       "</div>"
      ],
      "text/plain": [
       "            High         Low\n",
       "mean  964.304741  951.905259\n",
       "std    83.046095   81.104724"
      ]
     },
     "execution_count": 86,
     "metadata": {},
     "output_type": "execute_result"
    }
   ],
   "source": [
    "dfg.describe().loc[['mean','std'],['High','Low']]"
   ]
  },
  {
   "cell_type": "code",
   "execution_count": 87,
   "metadata": {},
   "outputs": [
    {
     "data": {
      "text/html": [
       "<div>\n",
       "<style>\n",
       "    .dataframe thead tr:only-child th {\n",
       "        text-align: right;\n",
       "    }\n",
       "\n",
       "    .dataframe thead th {\n",
       "        text-align: left;\n",
       "    }\n",
       "\n",
       "    .dataframe tbody tr th {\n",
       "        vertical-align: top;\n",
       "    }\n",
       "</style>\n",
       "<table border=\"1\" class=\"dataframe\">\n",
       "  <thead>\n",
       "    <tr style=\"text-align: right;\">\n",
       "      <th></th>\n",
       "      <th>Date</th>\n",
       "      <th>Open</th>\n",
       "      <th>High</th>\n",
       "      <th>Low</th>\n",
       "      <th>Close</th>\n",
       "      <th>Volume</th>\n",
       "    </tr>\n",
       "    <tr>\n",
       "      <th>Date</th>\n",
       "      <th></th>\n",
       "      <th></th>\n",
       "      <th></th>\n",
       "      <th></th>\n",
       "      <th></th>\n",
       "      <th></th>\n",
       "    </tr>\n",
       "  </thead>\n",
       "  <tbody>\n",
       "    <tr>\n",
       "      <th>2018-01-24</th>\n",
       "      <td>24-Jan-18</td>\n",
       "      <td>1184.98</td>\n",
       "      <td>1187.05</td>\n",
       "      <td>1167.40</td>\n",
       "      <td>1171.29</td>\n",
       "      <td>1856429</td>\n",
       "    </tr>\n",
       "    <tr>\n",
       "      <th>2018-01-23</th>\n",
       "      <td>23-Jan-18</td>\n",
       "      <td>1170.62</td>\n",
       "      <td>1178.51</td>\n",
       "      <td>1167.25</td>\n",
       "      <td>1176.17</td>\n",
       "      <td>1956865</td>\n",
       "    </tr>\n",
       "    <tr>\n",
       "      <th>2018-01-22</th>\n",
       "      <td>22-Jan-18</td>\n",
       "      <td>1143.82</td>\n",
       "      <td>1166.88</td>\n",
       "      <td>1141.82</td>\n",
       "      <td>1164.16</td>\n",
       "      <td>1477520</td>\n",
       "    </tr>\n",
       "    <tr>\n",
       "      <th>2018-01-19</th>\n",
       "      <td>19-Jan-18</td>\n",
       "      <td>1138.03</td>\n",
       "      <td>1143.78</td>\n",
       "      <td>1132.50</td>\n",
       "      <td>1143.50</td>\n",
       "      <td>1527554</td>\n",
       "    </tr>\n",
       "    <tr>\n",
       "      <th>2018-01-18</th>\n",
       "      <td>18-Jan-18</td>\n",
       "      <td>1139.35</td>\n",
       "      <td>1140.58</td>\n",
       "      <td>1124.46</td>\n",
       "      <td>1135.97</td>\n",
       "      <td>1374873</td>\n",
       "    </tr>\n",
       "  </tbody>\n",
       "</table>\n",
       "</div>"
      ],
      "text/plain": [
       "                 Date     Open     High      Low    Close   Volume\n",
       "Date                                                              \n",
       "2018-01-24  24-Jan-18  1184.98  1187.05  1167.40  1171.29  1856429\n",
       "2018-01-23  23-Jan-18  1170.62  1178.51  1167.25  1176.17  1956865\n",
       "2018-01-22  22-Jan-18  1143.82  1166.88  1141.82  1164.16  1477520\n",
       "2018-01-19  19-Jan-18  1138.03  1143.78  1132.50  1143.50  1527554\n",
       "2018-01-18  18-Jan-18  1139.35  1140.58  1124.46  1135.97  1374873"
      ]
     },
     "execution_count": 87,
     "metadata": {},
     "output_type": "execute_result"
    }
   ],
   "source": [
    "dfg.head()"
   ]
  },
  {
   "cell_type": "code",
   "execution_count": 89,
   "metadata": {},
   "outputs": [
    {
     "data": {
      "text/html": [
       "<div>\n",
       "<style>\n",
       "    .dataframe thead tr:only-child th {\n",
       "        text-align: right;\n",
       "    }\n",
       "\n",
       "    .dataframe thead th {\n",
       "        text-align: left;\n",
       "    }\n",
       "\n",
       "    .dataframe tbody tr th {\n",
       "        vertical-align: top;\n",
       "    }\n",
       "</style>\n",
       "<table border=\"1\" class=\"dataframe\">\n",
       "  <thead>\n",
       "    <tr style=\"text-align: right;\">\n",
       "      <th></th>\n",
       "      <th>Date</th>\n",
       "      <th>Open</th>\n",
       "      <th>High</th>\n",
       "      <th>Low</th>\n",
       "      <th>Close</th>\n",
       "      <th>Volume</th>\n",
       "    </tr>\n",
       "    <tr>\n",
       "      <th>Date</th>\n",
       "      <th></th>\n",
       "      <th></th>\n",
       "      <th></th>\n",
       "      <th></th>\n",
       "      <th></th>\n",
       "      <th></th>\n",
       "    </tr>\n",
       "  </thead>\n",
       "  <tbody>\n",
       "    <tr>\n",
       "      <th>2017-01-26</th>\n",
       "      <td>26-Jan-17</td>\n",
       "      <td>859.05</td>\n",
       "      <td>861.00</td>\n",
       "      <td>850.52</td>\n",
       "      <td>856.98</td>\n",
       "      <td>3493251</td>\n",
       "    </tr>\n",
       "    <tr>\n",
       "      <th>2017-01-27</th>\n",
       "      <td>27-Jan-17</td>\n",
       "      <td>859.00</td>\n",
       "      <td>867.00</td>\n",
       "      <td>841.90</td>\n",
       "      <td>845.03</td>\n",
       "      <td>3752497</td>\n",
       "    </tr>\n",
       "    <tr>\n",
       "      <th>2017-01-30</th>\n",
       "      <td>30-Jan-17</td>\n",
       "      <td>837.06</td>\n",
       "      <td>837.23</td>\n",
       "      <td>821.03</td>\n",
       "      <td>823.83</td>\n",
       "      <td>3516933</td>\n",
       "    </tr>\n",
       "    <tr>\n",
       "      <th>2017-01-31</th>\n",
       "      <td>31-Jan-17</td>\n",
       "      <td>819.50</td>\n",
       "      <td>823.07</td>\n",
       "      <td>813.40</td>\n",
       "      <td>820.19</td>\n",
       "      <td>2020180</td>\n",
       "    </tr>\n",
       "    <tr>\n",
       "      <th>2017-02-01</th>\n",
       "      <td>1-Feb-17</td>\n",
       "      <td>824.00</td>\n",
       "      <td>824.00</td>\n",
       "      <td>812.25</td>\n",
       "      <td>815.24</td>\n",
       "      <td>2251047</td>\n",
       "    </tr>\n",
       "  </tbody>\n",
       "</table>\n",
       "</div>"
      ],
      "text/plain": [
       "                 Date    Open    High     Low   Close   Volume\n",
       "Date                                                          \n",
       "2017-01-26  26-Jan-17  859.05  861.00  850.52  856.98  3493251\n",
       "2017-01-27  27-Jan-17  859.00  867.00  841.90  845.03  3752497\n",
       "2017-01-30  30-Jan-17  837.06  837.23  821.03  823.83  3516933\n",
       "2017-01-31  31-Jan-17  819.50  823.07  813.40  820.19  2020180\n",
       "2017-02-01   1-Feb-17  824.00  824.00  812.25  815.24  2251047"
      ]
     },
     "execution_count": 89,
     "metadata": {},
     "output_type": "execute_result"
    }
   ],
   "source": [
    "# We can change the index sorting\n",
    "dfg.sort_index(axis=0, ascending=True).head() # starts a year ago"
   ]
  },
  {
   "cell_type": "code",
   "execution_count": 90,
   "metadata": {},
   "outputs": [
    {
     "data": {
      "text/html": [
       "<div>\n",
       "<style>\n",
       "    .dataframe thead tr:only-child th {\n",
       "        text-align: right;\n",
       "    }\n",
       "\n",
       "    .dataframe thead th {\n",
       "        text-align: left;\n",
       "    }\n",
       "\n",
       "    .dataframe tbody tr th {\n",
       "        vertical-align: top;\n",
       "    }\n",
       "</style>\n",
       "<table border=\"1\" class=\"dataframe\">\n",
       "  <thead>\n",
       "    <tr style=\"text-align: right;\">\n",
       "      <th></th>\n",
       "      <th>Date</th>\n",
       "      <th>Open</th>\n",
       "      <th>High</th>\n",
       "      <th>Low</th>\n",
       "      <th>Close</th>\n",
       "      <th>Volume</th>\n",
       "    </tr>\n",
       "    <tr>\n",
       "      <th>Date</th>\n",
       "      <th></th>\n",
       "      <th></th>\n",
       "      <th></th>\n",
       "      <th></th>\n",
       "      <th></th>\n",
       "      <th></th>\n",
       "    </tr>\n",
       "  </thead>\n",
       "  <tbody>\n",
       "    <tr>\n",
       "      <th>2017-02-02</th>\n",
       "      <td>2-Feb-17</td>\n",
       "      <td>815.00</td>\n",
       "      <td>824.56</td>\n",
       "      <td>812.05</td>\n",
       "      <td>818.26</td>\n",
       "      <td>1689179</td>\n",
       "    </tr>\n",
       "    <tr>\n",
       "      <th>2017-01-31</th>\n",
       "      <td>31-Jan-17</td>\n",
       "      <td>819.50</td>\n",
       "      <td>823.07</td>\n",
       "      <td>813.40</td>\n",
       "      <td>820.19</td>\n",
       "      <td>2020180</td>\n",
       "    </tr>\n",
       "    <tr>\n",
       "      <th>2017-02-06</th>\n",
       "      <td>6-Feb-17</td>\n",
       "      <td>820.92</td>\n",
       "      <td>822.39</td>\n",
       "      <td>814.29</td>\n",
       "      <td>821.62</td>\n",
       "      <td>1350875</td>\n",
       "    </tr>\n",
       "    <tr>\n",
       "      <th>2017-02-03</th>\n",
       "      <td>3-Feb-17</td>\n",
       "      <td>823.13</td>\n",
       "      <td>826.13</td>\n",
       "      <td>819.35</td>\n",
       "      <td>820.13</td>\n",
       "      <td>1528095</td>\n",
       "    </tr>\n",
       "    <tr>\n",
       "      <th>2017-02-01</th>\n",
       "      <td>1-Feb-17</td>\n",
       "      <td>824.00</td>\n",
       "      <td>824.00</td>\n",
       "      <td>812.25</td>\n",
       "      <td>815.24</td>\n",
       "      <td>2251047</td>\n",
       "    </tr>\n",
       "    <tr>\n",
       "      <th>2017-02-07</th>\n",
       "      <td>7-Feb-17</td>\n",
       "      <td>825.50</td>\n",
       "      <td>831.92</td>\n",
       "      <td>823.29</td>\n",
       "      <td>829.23</td>\n",
       "      <td>1666605</td>\n",
       "    </tr>\n",
       "    <tr>\n",
       "      <th>2017-03-27</th>\n",
       "      <td>27-Mar-17</td>\n",
       "      <td>828.09</td>\n",
       "      <td>841.38</td>\n",
       "      <td>824.30</td>\n",
       "      <td>838.51</td>\n",
       "      <td>1935211</td>\n",
       "    </tr>\n",
       "    <tr>\n",
       "      <th>2017-02-08</th>\n",
       "      <td>8-Feb-17</td>\n",
       "      <td>830.53</td>\n",
       "      <td>834.25</td>\n",
       "      <td>825.11</td>\n",
       "      <td>829.88</td>\n",
       "      <td>1302225</td>\n",
       "    </tr>\n",
       "    <tr>\n",
       "      <th>2017-02-09</th>\n",
       "      <td>9-Feb-17</td>\n",
       "      <td>831.73</td>\n",
       "      <td>831.98</td>\n",
       "      <td>826.50</td>\n",
       "      <td>830.06</td>\n",
       "      <td>1194238</td>\n",
       "    </tr>\n",
       "    <tr>\n",
       "      <th>2017-02-10</th>\n",
       "      <td>10-Feb-17</td>\n",
       "      <td>832.95</td>\n",
       "      <td>837.15</td>\n",
       "      <td>830.51</td>\n",
       "      <td>834.85</td>\n",
       "      <td>1415128</td>\n",
       "    </tr>\n",
       "  </tbody>\n",
       "</table>\n",
       "</div>"
      ],
      "text/plain": [
       "                 Date    Open    High     Low   Close   Volume\n",
       "Date                                                          \n",
       "2017-02-02   2-Feb-17  815.00  824.56  812.05  818.26  1689179\n",
       "2017-01-31  31-Jan-17  819.50  823.07  813.40  820.19  2020180\n",
       "2017-02-06   6-Feb-17  820.92  822.39  814.29  821.62  1350875\n",
       "2017-02-03   3-Feb-17  823.13  826.13  819.35  820.13  1528095\n",
       "2017-02-01   1-Feb-17  824.00  824.00  812.25  815.24  2251047\n",
       "2017-02-07   7-Feb-17  825.50  831.92  823.29  829.23  1666605\n",
       "2017-03-27  27-Mar-17  828.09  841.38  824.30  838.51  1935211\n",
       "2017-02-08   8-Feb-17  830.53  834.25  825.11  829.88  1302225\n",
       "2017-02-09   9-Feb-17  831.73  831.98  826.50  830.06  1194238\n",
       "2017-02-10  10-Feb-17  832.95  837.15  830.51  834.85  1415128"
      ]
     },
     "execution_count": 90,
     "metadata": {},
     "output_type": "execute_result"
    }
   ],
   "source": [
    "# sort by value\n",
    "dfg.sort_values(by='Open')[0:10]"
   ]
  },
  {
   "cell_type": "markdown",
   "metadata": {},
   "source": [
    "### Masks and Boolean Indexing"
   ]
  },
  {
   "cell_type": "code",
   "execution_count": null,
   "metadata": {
    "collapsed": true
   },
   "outputs": [],
   "source": [
    "dfg[0:10]"
   ]
  },
  {
   "cell_type": "code",
   "execution_count": null,
   "metadata": {
    "collapsed": true
   },
   "outputs": [],
   "source": [
    "# mask 1\n",
    "mg1 = dfg['Open'][0:10]>1115\n",
    "print (mg1)\n",
    "# dfg.Open[0:10]>941    # same thing"
   ]
  },
  {
   "cell_type": "code",
   "execution_count": null,
   "metadata": {
    "collapsed": true
   },
   "outputs": [],
   "source": [
    "dfg['Open'][0:10][dfg['Open']>1115]\n",
    "# shows only rows with opening price greater than 1115"
   ]
  },
  {
   "cell_type": "code",
   "execution_count": null,
   "metadata": {
    "collapsed": true
   },
   "outputs": [],
   "source": [
    "# mask 2 full data frame\n",
    "mg2 = dfg[0:10]>1115\n",
    "mg2"
   ]
  },
  {
   "cell_type": "code",
   "execution_count": null,
   "metadata": {
    "collapsed": true
   },
   "outputs": [],
   "source": [
    "dfg[dfg>1115].head(10)"
   ]
  },
  {
   "cell_type": "code",
   "execution_count": null,
   "metadata": {
    "collapsed": true
   },
   "outputs": [],
   "source": [
    "# we can also drop all NaN values\n",
    "dfg[dfg>1115].head(10).dropna()"
   ]
  },
  {
   "cell_type": "code",
   "execution_count": null,
   "metadata": {
    "collapsed": true
   },
   "outputs": [],
   "source": [
    "# like Numpy, sometimes you need an actual copy, not a view or slice of the same data\n",
    "dfg_same = dfg\n",
    "dfg_same is dfg"
   ]
  },
  {
   "cell_type": "code",
   "execution_count": null,
   "metadata": {
    "collapsed": true
   },
   "outputs": [],
   "source": [
    "dfg2 = dfg.copy()\n",
    "dfg2 is dfg"
   ]
  },
  {
   "cell_type": "markdown",
   "metadata": {},
   "source": [
    "### Setting Values\n"
   ]
  },
  {
   "cell_type": "code",
   "execution_count": 91,
   "metadata": {},
   "outputs": [
    {
     "data": {
      "text/html": [
       "<div>\n",
       "<style>\n",
       "    .dataframe thead tr:only-child th {\n",
       "        text-align: right;\n",
       "    }\n",
       "\n",
       "    .dataframe thead th {\n",
       "        text-align: left;\n",
       "    }\n",
       "\n",
       "    .dataframe tbody tr th {\n",
       "        vertical-align: top;\n",
       "    }\n",
       "</style>\n",
       "<table border=\"1\" class=\"dataframe\">\n",
       "  <thead>\n",
       "    <tr style=\"text-align: right;\">\n",
       "      <th></th>\n",
       "      <th>Date</th>\n",
       "      <th>Open</th>\n",
       "      <th>High</th>\n",
       "      <th>Low</th>\n",
       "      <th>Close</th>\n",
       "      <th>Volume</th>\n",
       "    </tr>\n",
       "    <tr>\n",
       "      <th>Date</th>\n",
       "      <th></th>\n",
       "      <th></th>\n",
       "      <th></th>\n",
       "      <th></th>\n",
       "      <th></th>\n",
       "      <th></th>\n",
       "    </tr>\n",
       "  </thead>\n",
       "  <tbody>\n",
       "    <tr>\n",
       "      <th>2018-01-24</th>\n",
       "      <td>24-Jan-18</td>\n",
       "      <td>1184.98</td>\n",
       "      <td>1187.05</td>\n",
       "      <td>1167.40</td>\n",
       "      <td>1171.29</td>\n",
       "      <td>1856429</td>\n",
       "    </tr>\n",
       "    <tr>\n",
       "      <th>2018-01-23</th>\n",
       "      <td>23-Jan-18</td>\n",
       "      <td>1170.62</td>\n",
       "      <td>1178.51</td>\n",
       "      <td>1167.25</td>\n",
       "      <td>1176.17</td>\n",
       "      <td>1956865</td>\n",
       "    </tr>\n",
       "    <tr>\n",
       "      <th>2018-01-22</th>\n",
       "      <td>22-Jan-18</td>\n",
       "      <td>1143.82</td>\n",
       "      <td>1166.88</td>\n",
       "      <td>1141.82</td>\n",
       "      <td>1164.16</td>\n",
       "      <td>1477520</td>\n",
       "    </tr>\n",
       "    <tr>\n",
       "      <th>2018-01-19</th>\n",
       "      <td>19-Jan-18</td>\n",
       "      <td>1138.03</td>\n",
       "      <td>1143.78</td>\n",
       "      <td>1132.50</td>\n",
       "      <td>1143.50</td>\n",
       "      <td>1527554</td>\n",
       "    </tr>\n",
       "  </tbody>\n",
       "</table>\n",
       "</div>"
      ],
      "text/plain": [
       "                 Date     Open     High      Low    Close   Volume\n",
       "Date                                                              \n",
       "2018-01-24  24-Jan-18  1184.98  1187.05  1167.40  1171.29  1856429\n",
       "2018-01-23  23-Jan-18  1170.62  1178.51  1167.25  1176.17  1956865\n",
       "2018-01-22  22-Jan-18  1143.82  1166.88  1141.82  1164.16  1477520\n",
       "2018-01-19  19-Jan-18  1138.03  1143.78  1132.50  1143.50  1527554"
      ]
     },
     "execution_count": 91,
     "metadata": {},
     "output_type": "execute_result"
    }
   ],
   "source": [
    "# Recall\n",
    "dfg.head(4)"
   ]
  },
  {
   "cell_type": "code",
   "execution_count": 92,
   "metadata": {},
   "outputs": [
    {
     "data": {
      "text/html": [
       "<div>\n",
       "<style>\n",
       "    .dataframe thead tr:only-child th {\n",
       "        text-align: right;\n",
       "    }\n",
       "\n",
       "    .dataframe thead th {\n",
       "        text-align: left;\n",
       "    }\n",
       "\n",
       "    .dataframe tbody tr th {\n",
       "        vertical-align: top;\n",
       "    }\n",
       "</style>\n",
       "<table border=\"1\" class=\"dataframe\">\n",
       "  <thead>\n",
       "    <tr style=\"text-align: right;\">\n",
       "      <th></th>\n",
       "      <th>Date</th>\n",
       "      <th>Open</th>\n",
       "      <th>High</th>\n",
       "      <th>Low</th>\n",
       "      <th>Close</th>\n",
       "      <th>Volume</th>\n",
       "    </tr>\n",
       "    <tr>\n",
       "      <th>Date</th>\n",
       "      <th></th>\n",
       "      <th></th>\n",
       "      <th></th>\n",
       "      <th></th>\n",
       "      <th></th>\n",
       "      <th></th>\n",
       "    </tr>\n",
       "  </thead>\n",
       "  <tbody>\n",
       "    <tr>\n",
       "      <th>2018-01-24</th>\n",
       "      <td>24-Jan-18</td>\n",
       "      <td>1184.98</td>\n",
       "      <td>1187.05</td>\n",
       "      <td>1167.40</td>\n",
       "      <td>1171.29</td>\n",
       "      <td>18.56429</td>\n",
       "    </tr>\n",
       "    <tr>\n",
       "      <th>2018-01-23</th>\n",
       "      <td>23-Jan-18</td>\n",
       "      <td>1170.62</td>\n",
       "      <td>1178.51</td>\n",
       "      <td>1167.25</td>\n",
       "      <td>1176.17</td>\n",
       "      <td>19.56865</td>\n",
       "    </tr>\n",
       "    <tr>\n",
       "      <th>2018-01-22</th>\n",
       "      <td>22-Jan-18</td>\n",
       "      <td>1143.82</td>\n",
       "      <td>1166.88</td>\n",
       "      <td>1141.82</td>\n",
       "      <td>1164.16</td>\n",
       "      <td>14.77520</td>\n",
       "    </tr>\n",
       "    <tr>\n",
       "      <th>2018-01-19</th>\n",
       "      <td>19-Jan-18</td>\n",
       "      <td>1138.03</td>\n",
       "      <td>1143.78</td>\n",
       "      <td>1132.50</td>\n",
       "      <td>1143.50</td>\n",
       "      <td>15.27554</td>\n",
       "    </tr>\n",
       "  </tbody>\n",
       "</table>\n",
       "</div>"
      ],
      "text/plain": [
       "                 Date     Open     High      Low    Close    Volume\n",
       "Date                                                               \n",
       "2018-01-24  24-Jan-18  1184.98  1187.05  1167.40  1171.29  18.56429\n",
       "2018-01-23  23-Jan-18  1170.62  1178.51  1167.25  1176.17  19.56865\n",
       "2018-01-22  22-Jan-18  1143.82  1166.88  1141.82  1164.16  14.77520\n",
       "2018-01-19  19-Jan-18  1138.03  1143.78  1132.50  1143.50  15.27554"
      ]
     },
     "execution_count": 92,
     "metadata": {},
     "output_type": "execute_result"
    }
   ],
   "source": [
    "# All the ways to view\n",
    "# can also be used to set values\n",
    "# good for data normalization\n",
    "\n",
    "dfg['Volume'] = dfg['Volume']/100000.0\n",
    "dfg.head(4)"
   ]
  },
  {
   "cell_type": "code",
   "execution_count": 93,
   "metadata": {},
   "outputs": [
    {
     "name": "stdout",
     "output_type": "stream",
     "text": [
      "                 Date     Open     High      Low    Close  Volume\n",
      "Date                                                             \n",
      "2018-01-24  24-Jan-18  1184.98  1187.05  1167.40  1171.29    9999\n",
      "2018-01-23  23-Jan-18  1170.62  1178.51  1167.25  1176.17    9999\n",
      "2018-01-22  22-Jan-18  1143.82  1166.88  1141.82  1164.16    9999\n",
      "2018-01-19  19-Jan-18  1138.03  1143.78  1132.50  1143.50    9999\n",
      "2018-01-18  18-Jan-18  1139.35  1140.58  1124.46  1135.97    9999\n",
      "2018-01-17  17-Jan-18  1136.36  1139.32  1123.49  1139.10    9999\n",
      "2018-01-16  16-Jan-18  1140.31  1148.88  1126.66  1130.70    9999\n",
      "2018-01-12  12-Jan-18  1110.10  1131.30  1108.01  1130.65    9999\n",
      "2018-01-11  11-Jan-18  1112.31  1114.85  1106.48  1112.05    9999\n",
      "2018-01-10  10-Jan-18  1107.00  1112.78  1103.98  1110.14    9999\n"
     ]
    }
   ],
   "source": [
    "dfg['Volume'] = 9999\n",
    "print(dfg.head(10))"
   ]
  },
  {
   "cell_type": "code",
   "execution_count": 94,
   "metadata": {},
   "outputs": [
    {
     "data": {
      "text/html": [
       "<div>\n",
       "<style>\n",
       "    .dataframe thead tr:only-child th {\n",
       "        text-align: right;\n",
       "    }\n",
       "\n",
       "    .dataframe thead th {\n",
       "        text-align: left;\n",
       "    }\n",
       "\n",
       "    .dataframe tbody tr th {\n",
       "        vertical-align: top;\n",
       "    }\n",
       "</style>\n",
       "<table border=\"1\" class=\"dataframe\">\n",
       "  <thead>\n",
       "    <tr style=\"text-align: right;\">\n",
       "      <th></th>\n",
       "      <th>Date</th>\n",
       "      <th>Open</th>\n",
       "      <th>High</th>\n",
       "      <th>Low</th>\n",
       "      <th>Close</th>\n",
       "      <th>Volume</th>\n",
       "    </tr>\n",
       "    <tr>\n",
       "      <th>Date</th>\n",
       "      <th></th>\n",
       "      <th></th>\n",
       "      <th></th>\n",
       "      <th></th>\n",
       "      <th></th>\n",
       "      <th></th>\n",
       "    </tr>\n",
       "  </thead>\n",
       "  <tbody>\n",
       "    <tr>\n",
       "      <th>2018-01-24</th>\n",
       "      <td>24-Jan-18</td>\n",
       "      <td>0.00</td>\n",
       "      <td>1187.05</td>\n",
       "      <td>1167.40</td>\n",
       "      <td>1171.29</td>\n",
       "      <td>9999</td>\n",
       "    </tr>\n",
       "    <tr>\n",
       "      <th>2018-01-23</th>\n",
       "      <td>23-Jan-18</td>\n",
       "      <td>1170.62</td>\n",
       "      <td>1178.51</td>\n",
       "      <td>1167.25</td>\n",
       "      <td>1176.17</td>\n",
       "      <td>9999</td>\n",
       "    </tr>\n",
       "    <tr>\n",
       "      <th>2018-01-22</th>\n",
       "      <td>22-Jan-18</td>\n",
       "      <td>1143.82</td>\n",
       "      <td>1166.88</td>\n",
       "      <td>1141.82</td>\n",
       "      <td>1164.16</td>\n",
       "      <td>9999</td>\n",
       "    </tr>\n",
       "  </tbody>\n",
       "</table>\n",
       "</div>"
      ],
      "text/plain": [
       "                 Date     Open     High      Low    Close  Volume\n",
       "Date                                                             \n",
       "2018-01-24  24-Jan-18     0.00  1187.05  1167.40  1171.29    9999\n",
       "2018-01-23  23-Jan-18  1170.62  1178.51  1167.25  1176.17    9999\n",
       "2018-01-22  22-Jan-18  1143.82  1166.88  1141.82  1164.16    9999"
      ]
     },
     "execution_count": 94,
     "metadata": {},
     "output_type": "execute_result"
    }
   ],
   "source": [
    "# Change specific entry\n",
    "dfg.iat[0,1] = 0\n",
    "dfg.head(3)"
   ]
  },
  {
   "cell_type": "code",
   "execution_count": 95,
   "metadata": {
    "collapsed": true
   },
   "outputs": [],
   "source": [
    "# Comments on dropping and filling NaN values\n",
    "# A view where we drop any rows with value NnN\n",
    "# dfg.dropna(how='any')  # this would be used to drop rows with Nan\n",
    "# df1.fillna(value=5)    # this would be used to fill NaN values with 5"
   ]
  },
  {
   "cell_type": "markdown",
   "metadata": {},
   "source": [
    "### More Statistics and Operations"
   ]
  },
  {
   "cell_type": "code",
   "execution_count": 96,
   "metadata": {},
   "outputs": [
    {
     "data": {
      "text/plain": [
       "Open       953.526614\n",
       "High       964.304741\n",
       "Low        951.905259\n",
       "Close      958.707849\n",
       "Volume    9999.000000\n",
       "dtype: float64"
      ]
     },
     "execution_count": 96,
     "metadata": {},
     "output_type": "execute_result"
    }
   ],
   "source": [
    "# mean by column, also try var() for variance\n",
    "dfg.mean()   "
   ]
  },
  {
   "cell_type": "code",
   "execution_count": 97,
   "metadata": {},
   "outputs": [
    {
     "data": {
      "text/plain": [
       "Date\n",
       "2018-01-24    2704.948\n",
       "2018-01-23    2938.310\n",
       "2018-01-22    2923.136\n",
       "2018-01-19    2911.362\n",
       "2018-01-18    2907.872\n",
       "dtype: float64"
      ]
     },
     "execution_count": 97,
     "metadata": {},
     "output_type": "execute_result"
    }
   ],
   "source": [
    "dfg[0:5].mean(axis = 1) # row means of first five rows"
   ]
  },
  {
   "cell_type": "code",
   "execution_count": 99,
   "metadata": {},
   "outputs": [
    {
     "data": {
      "text/html": [
       "<div>\n",
       "<style>\n",
       "    .dataframe thead tr:only-child th {\n",
       "        text-align: right;\n",
       "    }\n",
       "\n",
       "    .dataframe thead th {\n",
       "        text-align: left;\n",
       "    }\n",
       "\n",
       "    .dataframe tbody tr th {\n",
       "        vertical-align: top;\n",
       "    }\n",
       "</style>\n",
       "<table border=\"1\" class=\"dataframe\">\n",
       "  <thead>\n",
       "    <tr style=\"text-align: right;\">\n",
       "      <th></th>\n",
       "      <th>Date</th>\n",
       "      <th>Open</th>\n",
       "      <th>High</th>\n",
       "      <th>Low</th>\n",
       "      <th>Close</th>\n",
       "      <th>Volume</th>\n",
       "    </tr>\n",
       "    <tr>\n",
       "      <th>Date</th>\n",
       "      <th></th>\n",
       "      <th></th>\n",
       "      <th></th>\n",
       "      <th></th>\n",
       "      <th></th>\n",
       "      <th></th>\n",
       "    </tr>\n",
       "  </thead>\n",
       "  <tbody>\n",
       "    <tr>\n",
       "      <th>2018-01-24</th>\n",
       "      <td>24-Jan-18</td>\n",
       "      <td>0.00</td>\n",
       "      <td>1187.05</td>\n",
       "      <td>1167.40</td>\n",
       "      <td>1171.29</td>\n",
       "      <td>9999</td>\n",
       "    </tr>\n",
       "    <tr>\n",
       "      <th>2018-01-23</th>\n",
       "      <td>24-Jan-1823-Jan-18</td>\n",
       "      <td>1170.62</td>\n",
       "      <td>2365.56</td>\n",
       "      <td>2334.65</td>\n",
       "      <td>2347.46</td>\n",
       "      <td>19998</td>\n",
       "    </tr>\n",
       "    <tr>\n",
       "      <th>2018-01-22</th>\n",
       "      <td>24-Jan-1823-Jan-1822-Jan-18</td>\n",
       "      <td>2314.44</td>\n",
       "      <td>3532.44</td>\n",
       "      <td>3476.47</td>\n",
       "      <td>3511.62</td>\n",
       "      <td>29997</td>\n",
       "    </tr>\n",
       "    <tr>\n",
       "      <th>2018-01-19</th>\n",
       "      <td>24-Jan-1823-Jan-1822-Jan-1819-Jan-18</td>\n",
       "      <td>3452.47</td>\n",
       "      <td>4676.22</td>\n",
       "      <td>4608.97</td>\n",
       "      <td>4655.12</td>\n",
       "      <td>39996</td>\n",
       "    </tr>\n",
       "    <tr>\n",
       "      <th>2018-01-18</th>\n",
       "      <td>24-Jan-1823-Jan-1822-Jan-1819-Jan-1818-Jan-18</td>\n",
       "      <td>4591.82</td>\n",
       "      <td>5816.80</td>\n",
       "      <td>5733.43</td>\n",
       "      <td>5791.09</td>\n",
       "      <td>49995</td>\n",
       "    </tr>\n",
       "    <tr>\n",
       "      <th>2018-01-17</th>\n",
       "      <td>24-Jan-1823-Jan-1822-Jan-1819-Jan-1818-Jan-181...</td>\n",
       "      <td>5728.18</td>\n",
       "      <td>6956.12</td>\n",
       "      <td>6856.92</td>\n",
       "      <td>6930.19</td>\n",
       "      <td>59994</td>\n",
       "    </tr>\n",
       "    <tr>\n",
       "      <th>2018-01-16</th>\n",
       "      <td>24-Jan-1823-Jan-1822-Jan-1819-Jan-1818-Jan-181...</td>\n",
       "      <td>6868.49</td>\n",
       "      <td>8105.00</td>\n",
       "      <td>7983.58</td>\n",
       "      <td>8060.89</td>\n",
       "      <td>69993</td>\n",
       "    </tr>\n",
       "    <tr>\n",
       "      <th>2018-01-12</th>\n",
       "      <td>24-Jan-1823-Jan-1822-Jan-1819-Jan-1818-Jan-181...</td>\n",
       "      <td>7978.59</td>\n",
       "      <td>9236.30</td>\n",
       "      <td>9091.59</td>\n",
       "      <td>9191.54</td>\n",
       "      <td>79992</td>\n",
       "    </tr>\n",
       "    <tr>\n",
       "      <th>2018-01-11</th>\n",
       "      <td>24-Jan-1823-Jan-1822-Jan-1819-Jan-1818-Jan-181...</td>\n",
       "      <td>9090.90</td>\n",
       "      <td>10351.15</td>\n",
       "      <td>10198.07</td>\n",
       "      <td>10303.59</td>\n",
       "      <td>89991</td>\n",
       "    </tr>\n",
       "    <tr>\n",
       "      <th>2018-01-10</th>\n",
       "      <td>24-Jan-1823-Jan-1822-Jan-1819-Jan-1818-Jan-181...</td>\n",
       "      <td>10197.90</td>\n",
       "      <td>11463.93</td>\n",
       "      <td>11302.05</td>\n",
       "      <td>11413.73</td>\n",
       "      <td>99990</td>\n",
       "    </tr>\n",
       "  </tbody>\n",
       "</table>\n",
       "</div>"
      ],
      "text/plain": [
       "                                                         Date      Open  \\\n",
       "Date                                                                      \n",
       "2018-01-24                                          24-Jan-18      0.00   \n",
       "2018-01-23                                 24-Jan-1823-Jan-18   1170.62   \n",
       "2018-01-22                        24-Jan-1823-Jan-1822-Jan-18   2314.44   \n",
       "2018-01-19               24-Jan-1823-Jan-1822-Jan-1819-Jan-18   3452.47   \n",
       "2018-01-18      24-Jan-1823-Jan-1822-Jan-1819-Jan-1818-Jan-18   4591.82   \n",
       "2018-01-17  24-Jan-1823-Jan-1822-Jan-1819-Jan-1818-Jan-181...   5728.18   \n",
       "2018-01-16  24-Jan-1823-Jan-1822-Jan-1819-Jan-1818-Jan-181...   6868.49   \n",
       "2018-01-12  24-Jan-1823-Jan-1822-Jan-1819-Jan-1818-Jan-181...   7978.59   \n",
       "2018-01-11  24-Jan-1823-Jan-1822-Jan-1819-Jan-1818-Jan-181...   9090.90   \n",
       "2018-01-10  24-Jan-1823-Jan-1822-Jan-1819-Jan-1818-Jan-181...  10197.90   \n",
       "\n",
       "                High       Low     Close  Volume  \n",
       "Date                                              \n",
       "2018-01-24   1187.05   1167.40   1171.29    9999  \n",
       "2018-01-23   2365.56   2334.65   2347.46   19998  \n",
       "2018-01-22   3532.44   3476.47   3511.62   29997  \n",
       "2018-01-19   4676.22   4608.97   4655.12   39996  \n",
       "2018-01-18   5816.80   5733.43   5791.09   49995  \n",
       "2018-01-17   6956.12   6856.92   6930.19   59994  \n",
       "2018-01-16   8105.00   7983.58   8060.89   69993  \n",
       "2018-01-12   9236.30   9091.59   9191.54   79992  \n",
       "2018-01-11  10351.15  10198.07  10303.59   89991  \n",
       "2018-01-10  11463.93  11302.05  11413.73   99990  "
      ]
     },
     "execution_count": 99,
     "metadata": {},
     "output_type": "execute_result"
    }
   ],
   "source": [
    "# Use the apply method to perform calculations on every element\n",
    "dfg[0:10].apply(np.cumsum)"
   ]
  },
  {
   "cell_type": "markdown",
   "metadata": {},
   "source": [
    "# PlotCorrelation\n",
    "### Load several stocks"
   ]
  },
  {
   "cell_type": "code",
   "execution_count": 100,
   "metadata": {
    "collapsed": true
   },
   "outputs": [],
   "source": [
    "# Reload\n",
    "dfg = pd.read_csv(base_url + 'goog')\n",
    "dfa = pd.read_csv(base_url + 'aapl')\n",
    "dfm = pd.read_csv(base_url + 'msft')\n",
    "dfn = pd.read_csv(base_url + 'nke')\n",
    "dfb = pd.read_csv(base_url + 'ba')"
   ]
  },
  {
   "cell_type": "code",
   "execution_count": 101,
   "metadata": {},
   "outputs": [
    {
     "name": "stdout",
     "output_type": "stream",
     "text": [
      "        Date    Open    High     Low   Close   Volume\n",
      "0  24-Jan-18  336.20  338.99  334.14  334.69  4205351\n",
      "1  23-Jan-18  338.34  338.94  334.81  335.59  4537784\n",
      "2  22-Jan-18  335.29  341.38  332.04  338.00  6792870\n",
      "3  19-Jan-18  341.67  344.00  335.75  337.73  7264401\n",
      "4  18-Jan-18  350.70  350.83  339.15  340.16  9458634\n"
     ]
    }
   ],
   "source": [
    "print (dfb.head())"
   ]
  },
  {
   "cell_type": "code",
   "execution_count": 102,
   "metadata": {
    "collapsed": true
   },
   "outputs": [],
   "source": [
    "# Rename columns\n",
    "dfg = dfg.rename(columns = {'Close':'GOOG'})\n",
    "#print (dfg.head())\n",
    "\n",
    "dfa = dfa.rename(columns = {'Close':'AAPL'})\n",
    "#print (dfa.head())\n",
    "\n",
    "dfm = dfm.rename(columns = {'Close':'MSFT'})\n",
    "#print (dfm.head())\n",
    "\n",
    "dfn = dfn.rename(columns = {'Close':'NKE'})\n",
    "#print (dfn.head())\n",
    "\n",
    "dfb = dfb.rename(columns = {'Close':'BA'})"
   ]
  },
  {
   "cell_type": "code",
   "execution_count": 103,
   "metadata": {},
   "outputs": [
    {
     "data": {
      "text/html": [
       "<div>\n",
       "<style>\n",
       "    .dataframe thead tr:only-child th {\n",
       "        text-align: right;\n",
       "    }\n",
       "\n",
       "    .dataframe thead th {\n",
       "        text-align: left;\n",
       "    }\n",
       "\n",
       "    .dataframe tbody tr th {\n",
       "        vertical-align: top;\n",
       "    }\n",
       "</style>\n",
       "<table border=\"1\" class=\"dataframe\">\n",
       "  <thead>\n",
       "    <tr style=\"text-align: right;\">\n",
       "      <th></th>\n",
       "      <th>Date</th>\n",
       "      <th>Open</th>\n",
       "      <th>High</th>\n",
       "      <th>Low</th>\n",
       "      <th>BA</th>\n",
       "      <th>Volume</th>\n",
       "    </tr>\n",
       "  </thead>\n",
       "  <tbody>\n",
       "    <tr>\n",
       "      <th>0</th>\n",
       "      <td>24-Jan-18</td>\n",
       "      <td>336.20</td>\n",
       "      <td>338.99</td>\n",
       "      <td>334.14</td>\n",
       "      <td>334.69</td>\n",
       "      <td>4205351</td>\n",
       "    </tr>\n",
       "    <tr>\n",
       "      <th>1</th>\n",
       "      <td>23-Jan-18</td>\n",
       "      <td>338.34</td>\n",
       "      <td>338.94</td>\n",
       "      <td>334.81</td>\n",
       "      <td>335.59</td>\n",
       "      <td>4537784</td>\n",
       "    </tr>\n",
       "  </tbody>\n",
       "</table>\n",
       "</div>"
      ],
      "text/plain": [
       "        Date    Open    High     Low      BA   Volume\n",
       "0  24-Jan-18  336.20  338.99  334.14  334.69  4205351\n",
       "1  23-Jan-18  338.34  338.94  334.81  335.59  4537784"
      ]
     },
     "execution_count": 103,
     "metadata": {},
     "output_type": "execute_result"
    }
   ],
   "source": [
    "dfb.head(2)"
   ]
  },
  {
   "cell_type": "code",
   "execution_count": 104,
   "metadata": {},
   "outputs": [
    {
     "data": {
      "text/html": [
       "<div>\n",
       "<style>\n",
       "    .dataframe thead tr:only-child th {\n",
       "        text-align: right;\n",
       "    }\n",
       "\n",
       "    .dataframe thead th {\n",
       "        text-align: left;\n",
       "    }\n",
       "\n",
       "    .dataframe tbody tr th {\n",
       "        vertical-align: top;\n",
       "    }\n",
       "</style>\n",
       "<table border=\"1\" class=\"dataframe\">\n",
       "  <thead>\n",
       "    <tr style=\"text-align: right;\">\n",
       "      <th></th>\n",
       "      <th>Date</th>\n",
       "      <th>GOOG</th>\n",
       "      <th>AAPL</th>\n",
       "      <th>MSFT</th>\n",
       "      <th>NKE</th>\n",
       "      <th>BA</th>\n",
       "    </tr>\n",
       "  </thead>\n",
       "  <tbody>\n",
       "    <tr>\n",
       "      <th>0</th>\n",
       "      <td>24-Jan-18</td>\n",
       "      <td>1164.24</td>\n",
       "      <td>174.22</td>\n",
       "      <td>91.82</td>\n",
       "      <td>68.00</td>\n",
       "      <td>334.69</td>\n",
       "    </tr>\n",
       "    <tr>\n",
       "      <th>1</th>\n",
       "      <td>23-Jan-18</td>\n",
       "      <td>1169.97</td>\n",
       "      <td>177.04</td>\n",
       "      <td>91.90</td>\n",
       "      <td>67.14</td>\n",
       "      <td>335.59</td>\n",
       "    </tr>\n",
       "    <tr>\n",
       "      <th>2</th>\n",
       "      <td>22-Jan-18</td>\n",
       "      <td>1155.81</td>\n",
       "      <td>177.00</td>\n",
       "      <td>91.61</td>\n",
       "      <td>66.39</td>\n",
       "      <td>338.00</td>\n",
       "    </tr>\n",
       "    <tr>\n",
       "      <th>3</th>\n",
       "      <td>19-Jan-18</td>\n",
       "      <td>1137.51</td>\n",
       "      <td>178.46</td>\n",
       "      <td>90.00</td>\n",
       "      <td>67.21</td>\n",
       "      <td>337.73</td>\n",
       "    </tr>\n",
       "    <tr>\n",
       "      <th>4</th>\n",
       "      <td>18-Jan-18</td>\n",
       "      <td>1129.79</td>\n",
       "      <td>179.26</td>\n",
       "      <td>90.10</td>\n",
       "      <td>64.11</td>\n",
       "      <td>340.16</td>\n",
       "    </tr>\n",
       "  </tbody>\n",
       "</table>\n",
       "</div>"
      ],
      "text/plain": [
       "        Date     GOOG    AAPL   MSFT    NKE      BA\n",
       "0  24-Jan-18  1164.24  174.22  91.82  68.00  334.69\n",
       "1  23-Jan-18  1169.97  177.04  91.90  67.14  335.59\n",
       "2  22-Jan-18  1155.81  177.00  91.61  66.39  338.00\n",
       "3  19-Jan-18  1137.51  178.46  90.00  67.21  337.73\n",
       "4  18-Jan-18  1129.79  179.26  90.10  64.11  340.16"
      ]
     },
     "execution_count": 104,
     "metadata": {},
     "output_type": "execute_result"
    }
   ],
   "source": [
    "# Lets merge some tables\n",
    "# They will all merge on the common column Date\n",
    "\n",
    "df = dfg[['Date','GOOG']].merge(dfa[['Date','AAPL']])\n",
    "df = df.merge(dfm[['Date','MSFT']])\n",
    "df = df.merge(dfn[['Date','NKE']])\n",
    "df = df.merge(dfb[['Date','BA']])\n",
    "\n",
    "df.head()"
   ]
  },
  {
   "cell_type": "code",
   "execution_count": 105,
   "metadata": {},
   "outputs": [
    {
     "data": {
      "text/html": [
       "<div>\n",
       "<style>\n",
       "    .dataframe thead tr:only-child th {\n",
       "        text-align: right;\n",
       "    }\n",
       "\n",
       "    .dataframe thead th {\n",
       "        text-align: left;\n",
       "    }\n",
       "\n",
       "    .dataframe tbody tr th {\n",
       "        vertical-align: top;\n",
       "    }\n",
       "</style>\n",
       "<table border=\"1\" class=\"dataframe\">\n",
       "  <thead>\n",
       "    <tr style=\"text-align: right;\">\n",
       "      <th></th>\n",
       "      <th>GOOG</th>\n",
       "      <th>AAPL</th>\n",
       "      <th>MSFT</th>\n",
       "      <th>NKE</th>\n",
       "      <th>BA</th>\n",
       "    </tr>\n",
       "    <tr>\n",
       "      <th>Date</th>\n",
       "      <th></th>\n",
       "      <th></th>\n",
       "      <th></th>\n",
       "      <th></th>\n",
       "      <th></th>\n",
       "    </tr>\n",
       "  </thead>\n",
       "  <tbody>\n",
       "    <tr>\n",
       "      <th>2018-01-24</th>\n",
       "      <td>1164.24</td>\n",
       "      <td>174.22</td>\n",
       "      <td>91.82</td>\n",
       "      <td>68.00</td>\n",
       "      <td>334.69</td>\n",
       "    </tr>\n",
       "    <tr>\n",
       "      <th>2018-01-23</th>\n",
       "      <td>1169.97</td>\n",
       "      <td>177.04</td>\n",
       "      <td>91.90</td>\n",
       "      <td>67.14</td>\n",
       "      <td>335.59</td>\n",
       "    </tr>\n",
       "    <tr>\n",
       "      <th>2018-01-22</th>\n",
       "      <td>1155.81</td>\n",
       "      <td>177.00</td>\n",
       "      <td>91.61</td>\n",
       "      <td>66.39</td>\n",
       "      <td>338.00</td>\n",
       "    </tr>\n",
       "    <tr>\n",
       "      <th>2018-01-19</th>\n",
       "      <td>1137.51</td>\n",
       "      <td>178.46</td>\n",
       "      <td>90.00</td>\n",
       "      <td>67.21</td>\n",
       "      <td>337.73</td>\n",
       "    </tr>\n",
       "    <tr>\n",
       "      <th>2018-01-18</th>\n",
       "      <td>1129.79</td>\n",
       "      <td>179.26</td>\n",
       "      <td>90.10</td>\n",
       "      <td>64.11</td>\n",
       "      <td>340.16</td>\n",
       "    </tr>\n",
       "  </tbody>\n",
       "</table>\n",
       "</div>"
      ],
      "text/plain": [
       "               GOOG    AAPL   MSFT    NKE      BA\n",
       "Date                                             \n",
       "2018-01-24  1164.24  174.22  91.82  68.00  334.69\n",
       "2018-01-23  1169.97  177.04  91.90  67.14  335.59\n",
       "2018-01-22  1155.81  177.00  91.61  66.39  338.00\n",
       "2018-01-19  1137.51  178.46  90.00  67.21  337.73\n",
       "2018-01-18  1129.79  179.26  90.10  64.11  340.16"
      ]
     },
     "execution_count": 105,
     "metadata": {},
     "output_type": "execute_result"
    }
   ],
   "source": [
    "df['Date'] = pd.to_datetime(df['Date'])\n",
    "df = df.set_index('Date')\n",
    "df.head()"
   ]
  },
  {
   "cell_type": "code",
   "execution_count": 106,
   "metadata": {},
   "outputs": [
    {
     "data": {
      "text/plain": [
       "<matplotlib.axes._subplots.AxesSubplot at 0x7f3a5eb1d940>"
      ]
     },
     "execution_count": 106,
     "metadata": {},
     "output_type": "execute_result"
    },
    {
     "data": {
      "image/png": "[encoded data removed]",
      "text/plain": [
       "<matplotlib.figure.Figure at 0x7f3a5eb80128>"
      ]
     },
     "metadata": {},
     "output_type": "display_data"
    }
   ],
   "source": [
    "df.plot()"
   ]
  },
  {
   "cell_type": "code",
   "execution_count": 107,
   "metadata": {},
   "outputs": [
    {
     "data": {
      "text/plain": [
       "<matplotlib.axes._subplots.AxesSubplot at 0x7f3a56c8cba8>"
      ]
     },
     "execution_count": 107,
     "metadata": {},
     "output_type": "execute_result"
    },
    {
     "data": {
      "image/png": "[encoded data removed]",
      "text/plain": [
       "<matplotlib.figure.Figure at 0x7f3a5eb7a748>"
      ]
     },
     "metadata": {},
     "output_type": "display_data"
    }
   ],
   "source": [
    "df['2017'][['NKE','BA']].plot()"
   ]
  },
  {
   "cell_type": "code",
   "execution_count": 108,
   "metadata": {},
   "outputs": [
    {
     "data": {
      "text/html": [
       "<div>\n",
       "<style>\n",
       "    .dataframe thead tr:only-child th {\n",
       "        text-align: right;\n",
       "    }\n",
       "\n",
       "    .dataframe thead th {\n",
       "        text-align: left;\n",
       "    }\n",
       "\n",
       "    .dataframe tbody tr th {\n",
       "        vertical-align: top;\n",
       "    }\n",
       "</style>\n",
       "<table border=\"1\" class=\"dataframe\">\n",
       "  <thead>\n",
       "    <tr style=\"text-align: right;\">\n",
       "      <th></th>\n",
       "      <th>GOOG</th>\n",
       "      <th>AAPL</th>\n",
       "      <th>MSFT</th>\n",
       "      <th>NKE</th>\n",
       "      <th>BA</th>\n",
       "    </tr>\n",
       "  </thead>\n",
       "  <tbody>\n",
       "    <tr>\n",
       "      <th>GOOG</th>\n",
       "      <td>1.000000</td>\n",
       "      <td>0.903769</td>\n",
       "      <td>0.946871</td>\n",
       "      <td>0.506342</td>\n",
       "      <td>0.877275</td>\n",
       "    </tr>\n",
       "    <tr>\n",
       "      <th>AAPL</th>\n",
       "      <td>0.903769</td>\n",
       "      <td>1.000000</td>\n",
       "      <td>0.933398</td>\n",
       "      <td>0.494565</td>\n",
       "      <td>0.892778</td>\n",
       "    </tr>\n",
       "    <tr>\n",
       "      <th>MSFT</th>\n",
       "      <td>0.946871</td>\n",
       "      <td>0.933398</td>\n",
       "      <td>1.000000</td>\n",
       "      <td>0.572370</td>\n",
       "      <td>0.953693</td>\n",
       "    </tr>\n",
       "    <tr>\n",
       "      <th>NKE</th>\n",
       "      <td>0.506342</td>\n",
       "      <td>0.494565</td>\n",
       "      <td>0.572370</td>\n",
       "      <td>1.000000</td>\n",
       "      <td>0.569790</td>\n",
       "    </tr>\n",
       "    <tr>\n",
       "      <th>BA</th>\n",
       "      <td>0.877275</td>\n",
       "      <td>0.892778</td>\n",
       "      <td>0.953693</td>\n",
       "      <td>0.569790</td>\n",
       "      <td>1.000000</td>\n",
       "    </tr>\n",
       "  </tbody>\n",
       "</table>\n",
       "</div>"
      ],
      "text/plain": [
       "          GOOG      AAPL      MSFT       NKE        BA\n",
       "GOOG  1.000000  0.903769  0.946871  0.506342  0.877275\n",
       "AAPL  0.903769  1.000000  0.933398  0.494565  0.892778\n",
       "MSFT  0.946871  0.933398  1.000000  0.572370  0.953693\n",
       "NKE   0.506342  0.494565  0.572370  1.000000  0.569790\n",
       "BA    0.877275  0.892778  0.953693  0.569790  1.000000"
      ]
     },
     "execution_count": 108,
     "metadata": {},
     "output_type": "execute_result"
    }
   ],
   "source": [
    "# show a correlation matrix (pearson)\n",
    "crl = df.corr()\n",
    "crl"
   ]
  },
  {
   "cell_type": "code",
   "execution_count": 109,
   "metadata": {},
   "outputs": [
    {
     "data": {
      "text/html": [
       "<div>\n",
       "<style>\n",
       "    .dataframe thead tr:only-child th {\n",
       "        text-align: right;\n",
       "    }\n",
       "\n",
       "    .dataframe thead th {\n",
       "        text-align: left;\n",
       "    }\n",
       "\n",
       "    .dataframe tbody tr th {\n",
       "        vertical-align: top;\n",
       "    }\n",
       "</style>\n",
       "<table border=\"1\" class=\"dataframe\">\n",
       "  <thead>\n",
       "    <tr style=\"text-align: right;\">\n",
       "      <th></th>\n",
       "      <th>GOOG</th>\n",
       "      <th>AAPL</th>\n",
       "      <th>MSFT</th>\n",
       "      <th>NKE</th>\n",
       "      <th>BA</th>\n",
       "    </tr>\n",
       "  </thead>\n",
       "  <tbody>\n",
       "    <tr>\n",
       "      <th>GOOG</th>\n",
       "      <td>1.000000</td>\n",
       "      <td>0.903769</td>\n",
       "      <td>0.946871</td>\n",
       "      <td>0.506342</td>\n",
       "      <td>0.877275</td>\n",
       "    </tr>\n",
       "    <tr>\n",
       "      <th>MSFT</th>\n",
       "      <td>0.946871</td>\n",
       "      <td>0.933398</td>\n",
       "      <td>1.000000</td>\n",
       "      <td>0.572370</td>\n",
       "      <td>0.953693</td>\n",
       "    </tr>\n",
       "    <tr>\n",
       "      <th>AAPL</th>\n",
       "      <td>0.903769</td>\n",
       "      <td>1.000000</td>\n",
       "      <td>0.933398</td>\n",
       "      <td>0.494565</td>\n",
       "      <td>0.892778</td>\n",
       "    </tr>\n",
       "    <tr>\n",
       "      <th>BA</th>\n",
       "      <td>0.877275</td>\n",
       "      <td>0.892778</td>\n",
       "      <td>0.953693</td>\n",
       "      <td>0.569790</td>\n",
       "      <td>1.000000</td>\n",
       "    </tr>\n",
       "    <tr>\n",
       "      <th>NKE</th>\n",
       "      <td>0.506342</td>\n",
       "      <td>0.494565</td>\n",
       "      <td>0.572370</td>\n",
       "      <td>1.000000</td>\n",
       "      <td>0.569790</td>\n",
       "    </tr>\n",
       "  </tbody>\n",
       "</table>\n",
       "</div>"
      ],
      "text/plain": [
       "          GOOG      AAPL      MSFT       NKE        BA\n",
       "GOOG  1.000000  0.903769  0.946871  0.506342  0.877275\n",
       "MSFT  0.946871  0.933398  1.000000  0.572370  0.953693\n",
       "AAPL  0.903769  1.000000  0.933398  0.494565  0.892778\n",
       "BA    0.877275  0.892778  0.953693  0.569790  1.000000\n",
       "NKE   0.506342  0.494565  0.572370  1.000000  0.569790"
      ]
     },
     "execution_count": 109,
     "metadata": {},
     "output_type": "execute_result"
    }
   ],
   "source": [
    "crl.sort_values(by='GOOG',ascending=False)"
   ]
  },
  {
   "cell_type": "code",
   "execution_count": 110,
   "metadata": {},
   "outputs": [
    {
     "data": {
      "text/plain": [
       "MSFT  BA      0.953693\n",
       "BA    MSFT    0.953693\n",
       "GOOG  MSFT    0.946871\n",
       "MSFT  GOOG    0.946871\n",
       "      AAPL    0.933398\n",
       "AAPL  MSFT    0.933398\n",
       "      GOOG    0.903769\n",
       "GOOG  AAPL    0.903769\n",
       "AAPL  BA      0.892778\n",
       "BA    AAPL    0.892778\n",
       "GOOG  BA      0.877275\n",
       "BA    GOOG    0.877275\n",
       "MSFT  NKE     0.572370\n",
       "NKE   MSFT    0.572370\n",
       "BA    NKE     0.569790\n",
       "NKE   BA      0.569790\n",
       "      GOOG    0.506342\n",
       "GOOG  NKE     0.506342\n",
       "NKE   AAPL    0.494565\n",
       "AAPL  NKE     0.494565\n",
       "dtype: float64"
      ]
     },
     "execution_count": 110,
     "metadata": {},
     "output_type": "execute_result"
    }
   ],
   "source": [
    "s = crl.unstack()\n",
    "so = s.sort_values(ascending=False)\n",
    "so[so<1]"
   ]
  },
  {
   "cell_type": "code",
   "execution_count": 111,
   "metadata": {},
   "outputs": [
    {
     "data": {
      "text/plain": [
       "<matplotlib.axes._subplots.AxesSubplot at 0x7f3a5f5ce278>"
      ]
     },
     "execution_count": 111,
     "metadata": {},
     "output_type": "execute_result"
    },
    {
     "data": {
      "image/png": "[encoded data removed]",
      "text/plain": [
       "<matplotlib.figure.Figure at 0x7f3a56c502e8>"
      ]
     },
     "metadata": {},
     "output_type": "display_data"
    }
   ],
   "source": [
    "sim=df-df.mean()\n",
    "sim[['MSFT','BA']].plot()"
   ]
  },
  {
   "cell_type": "code",
   "execution_count": null,
   "metadata": {
    "collapsed": true
   },
   "outputs": [],
   "source": []
  }
 ],
 "metadata": {
  "anaconda-cloud": {},
  "kernelspec": {
   "display_name": "Python 3",
   "language": "python",
   "name": "python3"
  },
  "language_info": {
   "codemirror_mode": {
    "name": "ipython",
    "version": 3
   },
   "file_extension": ".py",
   "mimetype": "text/x-python",
   "name": "python",
   "nbconvert_exporter": "python",
   "pygments_lexer": "ipython3",
   "version": "3.6.3"
  }
 },
 "nbformat": 4,
 "nbformat_minor": 1
}
